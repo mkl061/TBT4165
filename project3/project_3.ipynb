{
 "cells": [
  {
   "attachments": {},
   "cell_type": "markdown",
   "metadata": {},
   "source": [
    "In this project, you will begin working with COBRA (COnstraint-Based Reconstruction and Analysis) methods using the Python library [cobrapy](https://opencobra.github.io/cobrapy/). Originally implemented in MATLAB as the COBRA Toolbox, cobrapy is an object-oriented programming framework for the reconstruction and analysis of constraint-based metabolic models. Although still not as comprehensive as the COBRA Toolbox when it comes to modeling capabilities and implemented algorithms, it provides ample functionality to cover our needs for this course. Before starting with this project, I strongly encourage you to take a look at the [documentation](https://cobrapy.readthedocs.io/en/latest) and [API reference](https://cobrapy.readthedocs.io/en/latest/autoapi/index.html) where you will find useful descriptions and minor tutorials on how to work with the library. We will also be using the web-based tool [Escher](https://escher.github.io/#/}) for the visualization of metabolic pathway maps and calculated flux phenotypes.\n"
   ]
  },
  {
   "cell_type": "code",
   "execution_count": null,
   "metadata": {},
   "outputs": [],
   "source": [
    "# Imports:\n",
    "import cobra as c"
   ]
  },
  {
   "cell_type": "markdown",
   "metadata": {},
   "source": [
    "\n",
    "### 1.1 Toy model\n",
    "\n",
    "Consider the following toy metabolic network with 8 reactions ($\\mathrm{R}_1$, ..., $\\mathrm{R}_8$) and 8 metabolites ($\\mathrm{A}$, $\\mathrm{B}$, $\\mathrm{C}$, $\\mathrm{D}$, $\\mathrm{E}$, $\\mathrm{ATP}$, $\\mathrm{ADP}$, and $\\mathrm{P}_\\mathrm{i}$) (see supplementary pdf file).\n",
    "\n",
    "(i) Specify which metabolites are transported across the cell boundaries (e.g., cell membrane), and the direction of transport."
   ]
  },
  {
   "cell_type": "markdown",
   "metadata": {},
   "source": [
    "(ii) Write down the stoichiometric matrix **S** using the ordering of reactions and metabolites as defined above. How many degrees of freedom does this reaction system have and what is the dimensionality of the solution space (i.e. null space of **S**)?"
   ]
  },
  {
   "cell_type": "markdown",
   "metadata": {},
   "source": [
    "(iii) Given an upper flux bound for $\\mathrm{R}_1$ of 10 mmol gDW<sup>-1</sup> h<sup>-1</sup>, what is the maximal attainable flux through reaction $\\mathrm{R}_8$ and the corresponding flux distribution? What is the net production of ATP (i.e., the flux through $\\mathrm{R}_7$)? Implement the model using cobrapy and verify your answer by selecting $\\mathrm{R}_8$ as the objective and maximizing its flux.\n",
    "\n",
    "The `objective` is an attribute of the Model object, while the lower and upper flux bounds of a reaction is given by the attributes `lower_bound` and `upper_bound` of the corresponding Reaction object, respectively."
   ]
  },
  {
   "cell_type": "code",
   "execution_count": 1,
   "metadata": {},
   "outputs": [
    {
     "ename": "NameError",
     "evalue": "name 'c' is not defined",
     "output_type": "error",
     "traceback": [
      "\u001b[1;31m---------------------------------------------------------------------------\u001b[0m",
      "\u001b[1;31mNameError\u001b[0m                                 Traceback (most recent call last)",
      "Cell \u001b[1;32mIn[1], line 2\u001b[0m\n\u001b[0;32m      1\u001b[0m \u001b[39m### Define model: ---\u001b[39;00m\n\u001b[1;32m----> 2\u001b[0m model \u001b[39m=\u001b[39m c\u001b[39m.\u001b[39mModel(\u001b[39m\"\u001b[39m\u001b[39mToy model\u001b[39m\u001b[39m\"\u001b[39m)\n\u001b[0;32m      4\u001b[0m \u001b[39m### Metabolites: ---\u001b[39;00m\n\u001b[0;32m      5\u001b[0m A \u001b[39m=\u001b[39m c\u001b[39m.\u001b[39mMetabolite(\u001b[39m\"\u001b[39m\u001b[39mA\u001b[39m\u001b[39m\"\u001b[39m)\n",
      "\u001b[1;31mNameError\u001b[0m: name 'c' is not defined"
     ]
    }
   ],
   "source": [
    "### Define model: ---\n",
    "model = c.Model(\"Toy model\")\n",
    "\n",
    "### Metabolites: ---\n",
    "A = c.Metabolite(\"A\")\n",
    "B = c.Metabolite(\"B\")\n",
    "C = c.Metabolite(\"C\")\n",
    "D = c.Metabolite(\"D\")\n",
    "E = c.Metabolite(\"E\")\n",
    "ATP = c.Metabolite(\"ATP\")\n",
    "ADP = c.Metabolite(\"ADP\")\n",
    "P_i = c.Metabolite(\"P_i\")\n",
    "\n",
    "### Reactions: ---\n",
    "R1 = c.Reaction(\"R1\")\n",
    "R1.add_metabolites({\n",
    "   None : -1.0,\n",
    "   A : 1.0,\n",
    "})\n",
    "\n",
    "R2 = c.Reaction(\"R2\")\n",
    "R2.add_metabolites({\n",
    "   A : -1.0,\n",
    "   ADP : -1.0,\n",
    "   P_i : -1.0,\n",
    "   B : 1.0,\n",
    "   C : 1.0,\n",
    "   ATP : 1.0\n",
    "})\n",
    "\n",
    "R3 = c.Reaction(\"R3\")\n",
    "R3.add_metabolites({\n",
    "   C : -1.0,\n",
    "   ATP : -1.0,\n",
    "   B : 1.0,\n",
    "   ADP : 1.0,\n",
    "   P_i : 1.0\n",
    "})\n",
    "\n",
    "R4 = c.Reaction(\"R4\")\n",
    "R4.add_metabolites({\n",
    "   B : -1.0,\n",
    "   C : 1.0\n",
    "})\n",
    "\n",
    "R5 = c.Reaction(\"R5\")\n",
    "R5.add_metabolites({\n",
    "   A : -1.0,\n",
    "   D : -1.0,\n",
    "   ADP : -1.0,\n",
    "   P_i : -1.0,\n",
    "   E : 1.0,\n",
    "   ATP : 1.0\n",
    "})\n",
    "\n",
    "R6 = c.Reaction(\"R6\")\n",
    "R6.add_metabolites({\n",
    "   E : -1.0,\n",
    "   C : 1.0\n",
    "})\n",
    "\n",
    "R7 = c.Reaction(\"R7\")\n",
    "R7.add_metabolites({\n",
    "   ATP : -1.0,\n",
    "   ADP : 1.0,\n",
    "   P_i : 1.0\n",
    "})\n",
    "\n",
    "R8 = c.Reaction(\"R8\")\n",
    "R8.add_metabolites({\n",
    "   D : -1.0,\n",
    "   None : 1.0\n",
    "})\n",
    "\n",
    "\n",
    "### Add reactions to model: ---\n",
    "model.add_reactions([R1, R2, R3, R4, R5, R6, R7, R8])\n",
    "\n",
    "for reaction in model.reactions:\n",
    "    print(f\"{reaction.id} : {reaction.reaction}\")"
   ]
  },
  {
   "cell_type": "markdown",
   "metadata": {},
   "source": [
    "(iv) It has been shown that the maximization of ATP yield in certain instances is a realistic cellular objective. Given the same flux bound for $\\mathrm{R}_1$ as in (iii), explain and discuss the maximal feasible net production of ATP. Verify your answer using cobrapy."
   ]
  },
  {
   "cell_type": "code",
   "execution_count": null,
   "metadata": {},
   "outputs": [],
   "source": []
  },
  {
   "cell_type": "markdown",
   "metadata": {},
   "source": [
    "(v) Assume that the flux of reaction $\\mathrm{R}_6$ is to be constrained to zero. You may implement this in the stoichiometric matrix by adding a new row to **S** where all column entries are zero except in column 6, which is 1. Explain why this will constrain the flux of reaction $\\mathrm{R}_6$ to zero. What is the dimensionality of this new stoichiometric matrix?"
   ]
  },
  {
   "cell_type": "markdown",
   "metadata": {},
   "source": [
    "### 1.2 *Escherichia coli* core model\n",
    "\n",
    "(i) Download `ecoli_core_model` from Blackboard and read the model using the `read_sbml_model` function in cobrapy. Give a description of its content (i.e., number of reactions, metabolites, genes, etc.). Which metabolic subsystems are implemented in the model?\n",
    "\n",
    "Hint: the subsystems are found in the Model attribute `groups`."
   ]
  },
  {
   "cell_type": "code",
   "execution_count": null,
   "metadata": {},
   "outputs": [],
   "source": []
  },
  {
   "cell_type": "markdown",
   "metadata": {},
   "source": [
    "(ii) Simulate the optimal growth phenotype on aerobic, minimal glucose media, by setting the lower bound of glucose uptake ('EX_glc__D_e') to a biologically reasonable uptake rate of -18.5 mmol gDW<sup>-1</sup> h<sup>-1</sup> and the oxygen uptake EX_o2_e to -1000 mmol gDW<sup>-1</sup> h<sup>-1</sup> <sup>i</sup>. What is the maximal specific growth rate and what are the uptake fluxes of glucose, ammonia, oxygen, and inorganic phosphate in the optimal solution?\n",
    "\n",
    "<sup>i</sup> Note that uptake reaction flux bounds by default are negative, which is due to how these traditionally are defined in constraint-based models of metabolism. A boundary metabolite X is taken up by the system using the following format for the exchange reaction X $\\Longleftrightarrow$, where a positive and negative flux denotes secretion and uptake, respectively."
   ]
  },
  {
   "cell_type": "code",
   "execution_count": null,
   "metadata": {},
   "outputs": [],
   "source": []
  },
  {
   "cell_type": "markdown",
   "metadata": {},
   "source": [
    "(iii) What is the secretion profile of anaerobic growth on glucose? Compare with that of aerobic growth on glucose (ii) and give a biochemical explanation for their differences."
   ]
  },
  {
   "cell_type": "code",
   "execution_count": null,
   "metadata": {},
   "outputs": [],
   "source": []
  },
  {
   "cell_type": "markdown",
   "metadata": {},
   "source": [
    "(iv) Visualize the reaction fluxes of both the aerobic and anaerobic flux phenotypes using the *E. coli* core model pathway map (found [here](https://escher.github.io/#/app?map=e_coli_core.Core\\%20metabolism&tool=Builder&model=e_coli_core)) by creating a dictionary of reaction ids and corresponding fluxes, then writing this to a json file. Import the data into Escher by clicking Data $\\rightarrow$ Load reaction data, then select your json file. Describe and discuss the difference in flux distributions."
   ]
  },
  {
   "cell_type": "code",
   "execution_count": null,
   "metadata": {},
   "outputs": [],
   "source": []
  },
  {
   "cell_type": "markdown",
   "metadata": {},
   "source": [
    "(v) Setting the maximal substrate uptake flux to 10 mmol gDW<sup>-1</sup> h<sup>-1</sup>, maximize growth using each of the carbon sources listed in Table 1 individually under both aerobic and anaerobic conditions.\n",
    "\n",
    "### Table 1 \n",
    "| Substrate | Exchange reaction ID |\n",
    "| --- | --- |\n",
    "| acetate | EX_ac_e |\n",
    "| acetaldehyde | EX_acald_e |\n",
    "| 2-oxoglutarate | EX_akg_e | \n",
    "| ethanol | EX_etoh_e |\n",
    "| D-fructose | EX_fru_e |\n",
    "| fumarate | EX_fum_e |\n",
    "| D-glucose | EX_glc__D_e |\n",
    "| L-glutamine | EX_gln_L_e |\n",
    "| L-glutamate | EX_glu_L_e |\n",
    "| D-lactate | EX_lac_D_e |\n",
    "| L-malate | EX_mal_L_e |\n",
    "| pyruvate | EX_pyr_e |\n",
    "| succinate | EX_succ_e |"
   ]
  },
  {
   "cell_type": "code",
   "execution_count": null,
   "metadata": {},
   "outputs": [],
   "source": []
  }
 ],
 "metadata": {
  "interpreter": {
   "hash": "fd8ecb0a0e5529365023c160038f61c833598c1f7ab6b6860ba833c51f7774d8"
  },
  "kernelspec": {
   "display_name": "Python 3",
   "language": "python",
   "name": "python3"
  },
  "language_info": {
   "codemirror_mode": {
    "name": "ipython",
    "version": 3
   },
   "file_extension": ".py",
   "mimetype": "text/x-python",
   "name": "python",
   "nbconvert_exporter": "python",
   "pygments_lexer": "ipython3",
   "version": "3.10.10"
  }
 },
 "nbformat": 4,
 "nbformat_minor": 2
}
