{
 "cells": [
  {
   "attachments": {},
   "cell_type": "markdown",
   "metadata": {},
   "source": [
    "In this project, you will begin working with COBRA (COnstraint-Based Reconstruction and Analysis) methods using the Python library [cobrapy](https://opencobra.github.io/cobrapy/). Originally implemented in MATLAB as the COBRA Toolbox, cobrapy is an object-oriented programming framework for the reconstruction and analysis of constraint-based metabolic models. Although still not as comprehensive as the COBRA Toolbox when it comes to modeling capabilities and implemented algorithms, it provides ample functionality to cover our needs for this course. Before starting with this project, I strongly encourage you to take a look at the [documentation](https://cobrapy.readthedocs.io/en/latest) and [API reference](https://cobrapy.readthedocs.io/en/latest/autoapi/index.html) where you will find useful descriptions and minor tutorials on how to work with the library. We will also be using the web-based tool [Escher](https://escher.github.io/#/}) for the visualization of metabolic pathway maps and calculated flux phenotypes.\n"
   ]
  },
  {
   "cell_type": "code",
   "execution_count": 152,
   "metadata": {},
   "outputs": [],
   "source": [
    "# Imports:\n",
    "import cobra as c\n",
    "import json"
   ]
  },
  {
   "attachments": {},
   "cell_type": "markdown",
   "metadata": {},
   "source": [
    "\n",
    "### 1.1 Toy model\n",
    "\n",
    "Consider the following toy metabolic network with 8 reactions ($\\mathrm{R}_1$, ..., $\\mathrm{R}_8$) and 8 metabolites ($\\mathrm{A}$, $\\mathrm{B}$, $\\mathrm{C}$, $\\mathrm{D}$, $\\mathrm{E}$, $\\mathrm{ATP}$, $\\mathrm{ADP}$, and $\\mathrm{P}_\\mathrm{i}$) (see supplementary pdf file).\n"
   ]
  },
  {
   "cell_type": "code",
   "execution_count": 153,
   "metadata": {},
   "outputs": [],
   "source": [
    "### Define model: ---\n",
    "model = c.Model(\"Toy model\")\n",
    "\n",
    "### Metabolites: ---\n",
    "A = c.Metabolite(\"A\")\n",
    "B = c.Metabolite(\"B\")\n",
    "C = c.Metabolite(\"C\")\n",
    "D = c.Metabolite(\"D\")\n",
    "E = c.Metabolite(\"E\")\n",
    "ATP = c.Metabolite(\"ATP\")\n",
    "ADP = c.Metabolite(\"ADP\")\n",
    "P_i = c.Metabolite(\"P_i\")\n",
    "\n",
    "\n",
    "### Reactions: ---\n",
    "R1 = c.Reaction(\"R1\")\n",
    "R1.add_metabolites({\n",
    "   A : 1.0\n",
    "})\n",
    "\n",
    "R2 = c.Reaction(\"R2\")\n",
    "R2.add_metabolites({\n",
    "   A : -1.0,\n",
    "   ADP : -1.0,\n",
    "   P_i : -1.0,\n",
    "   B : 1.0,\n",
    "   C : 1.0,\n",
    "   ATP : 1.0\n",
    "})\n",
    "\n",
    "R3 = c.Reaction(\"R3\")\n",
    "R3.add_metabolites({\n",
    "   C : -1.0,\n",
    "   ATP : -1.0,\n",
    "   B : 1.0,\n",
    "   ADP : 1.0,\n",
    "   P_i : 1.0\n",
    "})\n",
    "\n",
    "R4 = c.Reaction(\"R4\")\n",
    "R4.add_metabolites({\n",
    "   B : -1.0,\n",
    "   D : 1.0\n",
    "})\n",
    "\n",
    "R5 = c.Reaction(\"R5\")\n",
    "R5.add_metabolites({\n",
    "   A : -1.0,\n",
    "   D : -1.0,\n",
    "   ADP : -1.0,\n",
    "   P_i : -1.0,\n",
    "   E : 1.0,\n",
    "   ATP : 1.0\n",
    "})\n",
    "\n",
    "R6 = c.Reaction(\"R6\")\n",
    "R6.add_metabolites({\n",
    "   E : -1.0,\n",
    "   C : 1.0\n",
    "})\n",
    "\n",
    "R7 = c.Reaction(\"R7\")\n",
    "R7.add_metabolites({\n",
    "   ATP : -1.0,\n",
    "   ADP : 1.0,\n",
    "   P_i : 1.0\n",
    "})\n",
    "\n",
    "R8 = c.Reaction(\"R8\")\n",
    "R8.add_metabolites({\n",
    "   D : -1.0\n",
    "})\n",
    "\n",
    "\n",
    "### Flux bound: ----\n",
    "R1.upper_bound = 10  # unit: mmol g DW^(-1)h^(-1)\n",
    "\n",
    "### Add reactions to model: ---\n",
    "model.add_reactions([R1, R2, R3, R4, R5, R6, R7, R8])"
   ]
  },
  {
   "cell_type": "markdown",
   "metadata": {},
   "source": [
    "\n",
    "(i) Specify which metabolites are transported across the cell boundaries (e.g., cell membrane), and the direction of transport."
   ]
  },
  {
   "attachments": {},
   "cell_type": "markdown",
   "metadata": {},
   "source": [
    "<span style=\"color:blue\">\n",
    "Just based on the reactions as displayed in the task description I would say that metabolite A is transported in accros the cell boundry in R1, and metabolite D is transported out accros the same boundry in R8"
   ]
  },
  {
   "cell_type": "markdown",
   "metadata": {},
   "source": [
    "(ii) Write down the stoichiometric matrix **S** using the ordering of reactions and metabolites as defined above. How many degrees of freedom does this reaction system have and what is the dimensionality of the solution space (i.e. null space of **S**)?"
   ]
  },
  {
   "attachments": {},
   "cell_type": "markdown",
   "metadata": {},
   "source": [
    "<span style=\"color:blue\">\n",
    "The reaction system has __ degrees of freedom. The dimensionality of the solution space is __."
   ]
  },
  {
   "cell_type": "code",
   "execution_count": 154,
   "metadata": {},
   "outputs": [
    {
     "name": "stdout",
     "output_type": "stream",
     "text": [
      "Reactions:\n",
      "R1 :  --> A\n",
      "R2 : A + ADP + P_i --> ATP + B + C\n",
      "R3 : ATP + C --> ADP + B + P_i\n",
      "R4 : B --> D\n",
      "R5 : A + ADP + D + P_i --> ATP + E\n",
      "R6 : E --> C\n",
      "R7 : ATP --> ADP + P_i\n",
      "R8 : D --> \n",
      "\n",
      "\n",
      "Stoichiometric matrix: \n",
      " [[ 1. -1.  0.  0. -1.  0.  0.  0.]\n",
      " [ 0. -1.  1.  0. -1.  0.  1.  0.]\n",
      " [ 0. -1.  1.  0. -1.  0.  1.  0.]\n",
      " [ 0.  1.  1. -1.  0.  0.  0.  0.]\n",
      " [ 0.  1. -1.  0.  0.  1.  0.  0.]\n",
      " [ 0.  1. -1.  0.  1.  0. -1.  0.]\n",
      " [ 0.  0.  0.  1. -1.  0.  0. -1.]\n",
      " [ 0.  0.  0.  0.  1. -1.  0.  0.]]\n"
     ]
    }
   ],
   "source": [
    "### Print the reactions: ---\n",
    "print(\"Reactions:\")\n",
    "for reaction in model.reactions:\n",
    "    print(f\"{reaction.id} : {reaction.reaction}\")\n",
    "\n",
    "print(\"\\n\\nStoichiometric matrix: \\n\", c.util.create_stoichiometric_matrix(model))"
   ]
  },
  {
   "cell_type": "markdown",
   "metadata": {},
   "source": [
    "(iii) Given an upper flux bound for $\\mathrm{R}_1$ of 10 mmol gDW<sup>-1</sup> h<sup>-1</sup>, what is the maximal attainable flux through reaction $\\mathrm{R}_8$ and the corresponding flux distribution? What is the net production of ATP (i.e., the flux through $\\mathrm{R}_7$)? Implement the model using cobrapy and verify your answer by selecting $\\mathrm{R}_8$ as the objective and maximizing its flux.\n",
    "\n",
    "The `objective` is an attribute of the Model object, while the lower and upper flux bounds of a reaction is given by the attributes `lower_bound` and `upper_bound` of the corresponding Reaction object, respectively."
   ]
  },
  {
   "cell_type": "code",
   "execution_count": 155,
   "metadata": {},
   "outputs": [
    {
     "name": "stdout",
     "output_type": "stream",
     "text": [
      "R1    10.0\n",
      "R2    10.0\n",
      "R3    10.0\n",
      "R4    20.0\n",
      "R5     0.0\n",
      "R6     0.0\n",
      "R7     0.0\n",
      "R8    20.0\n",
      "Name: fluxes, dtype: float64\n"
     ]
    }
   ],
   "source": [
    "# Maximise the flux through R8:\n",
    "model.objective = \"R8\"\n",
    "#print(model.objective)\n",
    "\n",
    "# Display the flux distribution:\n",
    "solution = model.optimize()\n",
    "print(solution.fluxes)"
   ]
  },
  {
   "attachments": {},
   "cell_type": "markdown",
   "metadata": {},
   "source": [
    "<span style=\"color:blue\">\n",
    "The maximal attainable flux through R8 is 20 mmol gDW<sup>-1</sup> h<sup>-1</sup> when the flux through R1 is set to 10 mmol gDW<sup>-1</sup> h<sup>-1</sup>. I am not sure if the wording of the question is correct, given that ATP is not produced in R7. Either way, there will be no net production of ATP in this cascade because all the (10) ATP that is produced in R2 is furthere consumed in R3. The reactions R5, R6, and R7 are not initialized when we want to maximise the flux trhough R8 because all of the A is already concumed in R2. So, there is no ATP for R7."
   ]
  },
  {
   "cell_type": "markdown",
   "metadata": {},
   "source": [
    "(iv) It has been shown that the maximization of ATP yield in certain instances is a realistic cellular objective. Given the same flux bound for $\\mathrm{R}_1$ as in (iii), explain and discuss the maximal feasible net production of ATP. Verify your answer using cobrapy."
   ]
  },
  {
   "cell_type": "code",
   "execution_count": 156,
   "metadata": {},
   "outputs": [
    {
     "name": "stdout",
     "output_type": "stream",
     "text": [
      "R1    10.0\n",
      "R2    10.0\n",
      "R3    10.0\n",
      "R4    20.0\n",
      "R5     0.0\n",
      "R6     0.0\n",
      "R7     0.0\n",
      "R8    20.0\n",
      "Name: fluxes, dtype: float64\n"
     ]
    }
   ],
   "source": [
    "model.objective = \"R7\"\n",
    "print(model.optimize().fluxes)"
   ]
  },
  {
   "attachments": {},
   "cell_type": "markdown",
   "metadata": {},
   "source": [
    "<span style=\"color:blue\">\n",
    "NB! The code seems to be stuck at optimizing for R8. Either way "
   ]
  },
  {
   "cell_type": "markdown",
   "metadata": {},
   "source": [
    "(v) Assume that the flux of reaction $\\mathrm{R}_6$ is to be constrained to zero. You may implement this in the stoichiometric matrix by adding a new row to **S** where all column entries are zero except in column 6, which is 1. Explain why this will constrain the flux of reaction $\\mathrm{R}_6$ to zero. What is the dimensionality of this new stoichiometric matrix?"
   ]
  },
  {
   "cell_type": "markdown",
   "metadata": {},
   "source": [
    "### 1.2 *Escherichia coli* core model\n",
    "\n",
    "(i) Download `ecoli_core_model` from Blackboard and read the model using the `read_sbml_model` function in cobrapy. Give a description of its content (i.e., number of reactions, metabolites, genes, etc.). Which metabolic subsystems are implemented in the model?\n",
    "\n",
    "Hint: the subsystems are found in the Model attribute `groups`."
   ]
  },
  {
   "cell_type": "code",
   "execution_count": 157,
   "metadata": {},
   "outputs": [
    {
     "name": "stdout",
     "output_type": "stream",
     "text": [
      "Summary of the model:\n"
     ]
    },
    {
     "data": {
      "text/html": [
       "\n",
       "        <table>\n",
       "            <tr>\n",
       "                <td><strong>Name</strong></td>\n",
       "                <td>COBRAModel</td>\n",
       "            </tr><tr>\n",
       "                <td><strong>Memory address</strong></td>\n",
       "                <td>18bf21380d0</td>\n",
       "            </tr><tr>\n",
       "                <td><strong>Number of metabolites</strong></td>\n",
       "                <td>72</td>\n",
       "            </tr><tr>\n",
       "                <td><strong>Number of reactions</strong></td>\n",
       "                <td>95</td>\n",
       "            </tr><tr>\n",
       "                <td><strong>Number of genes</strong></td>\n",
       "                <td>137</td>\n",
       "            </tr><tr>\n",
       "                <td><strong>Number of groups</strong></td>\n",
       "                <td>10</td>\n",
       "            </tr><tr>\n",
       "                <td><strong>Objective expression</strong></td>\n",
       "                <td>1.0*BIOMASS_Ecoli_core_w_GAM - 1.0*BIOMASS_Ecoli_core_w_GAM_reverse_712e5</td>\n",
       "            </tr><tr>\n",
       "                <td><strong>Compartments</strong></td>\n",
       "                <td>Cytoplasm, Extracellular</td>\n",
       "            </tr>\n",
       "          </table>"
      ],
      "text/plain": [
       "<Model COBRAModel at 0x18bf21380d0>"
      ]
     },
     "metadata": {},
     "output_type": "display_data"
    },
    {
     "name": "stdout",
     "output_type": "stream",
     "text": [
      "The metabolic subsystems implemented in the model is:\n",
      "\t Anaplerotic reactions\n",
      "\t Citric Acid Cycle\n",
      "\t Exchange\n",
      "\t Glutamate Metabolism\n",
      "\t Glycolysis/Gluconeogenesis\n",
      "\t Inorganic Ion Transport and Metabolism\n",
      "\t Oxidative Phosphorylation\n",
      "\t Pentose Phosphate Pathway\n",
      "\t Pyruvate Metabolism\n",
      "\t Transport, Extracellular\n"
     ]
    }
   ],
   "source": [
    "# Generate the model:\n",
    "ecoli = c.io.read_sbml_model(\"ecoli_core_model/ecoli_core_model.xml\")\n",
    "\n",
    "# Summary:\n",
    "print(\"Summary of the model:\")\n",
    "display(ecoli)\n",
    "\n",
    "# Subsystems:\n",
    "print(\"The metabolic subsystems implemented in the model is:\")\n",
    "for i in ecoli.groups:\n",
    "    print(\"\\t\", i.name)"
   ]
  },
  {
   "cell_type": "markdown",
   "metadata": {},
   "source": [
    "(ii) Simulate the optimal growth phenotype on aerobic, minimal glucose media, by setting the lower bound of glucose uptake ('EX_glc__D_e') to a biologically reasonable uptake rate of -18.5 mmol gDW<sup>-1</sup> h<sup>-1</sup> and the oxygen uptake EX_o2_e to -1000 mmol gDW<sup>-1</sup> h<sup>-1</sup> <sup>i</sup>. What is the maximal specific growth rate and what are the uptake fluxes of glucose, ammonia, oxygen, and inorganic phosphate in the optimal solution?\n",
    "\n",
    "<sup>i</sup> Note that uptake reaction flux bounds by default are negative, which is due to how these traditionally are defined in constraint-based models of metabolism. A boundary metabolite X is taken up by the system using the following format for the exchange reaction X $\\Longleftrightarrow$, where a positive and negative flux denotes secretion and uptake, respectively."
   ]
  },
  {
   "cell_type": "code",
   "execution_count": 158,
   "metadata": {},
   "outputs": [
    {
     "data": {
      "text/html": [
       "<h3>Objective</h3><p>1.0 BIOMASS_Ecoli_core_w_GAM = 1.6530718511568188</p><h4>Uptake</h4><table border=\"1\" class=\"dataframe\">\n",
       "  <thead>\n",
       "    <tr style=\"text-align: right;\">\n",
       "      <th>Metabolite</th>\n",
       "      <th>Reaction</th>\n",
       "      <th>Flux</th>\n",
       "      <th>C-Number</th>\n",
       "      <th>C-Flux</th>\n",
       "    </tr>\n",
       "  </thead>\n",
       "  <tbody>\n",
       "    <tr>\n",
       "      <td>glc-D[e]</td>\n",
       "      <td>EX_glc__D_e</td>\n",
       "      <td>18.5</td>\n",
       "      <td>6</td>\n",
       "      <td>100.00%</td>\n",
       "    </tr>\n",
       "    <tr>\n",
       "      <td>nh4[e]</td>\n",
       "      <td>EX_nh4_e</td>\n",
       "      <td>9.014</td>\n",
       "      <td>0</td>\n",
       "      <td>0.00%</td>\n",
       "    </tr>\n",
       "    <tr>\n",
       "      <td>o2[e]</td>\n",
       "      <td>EX_o2_e</td>\n",
       "      <td>38.74</td>\n",
       "      <td>0</td>\n",
       "      <td>0.00%</td>\n",
       "    </tr>\n",
       "    <tr>\n",
       "      <td>pi[e]</td>\n",
       "      <td>EX_pi_e</td>\n",
       "      <td>6.081</td>\n",
       "      <td>0</td>\n",
       "      <td>0.00%</td>\n",
       "    </tr>\n",
       "  </tbody>\n",
       "</table><h4>Secretion</h4><table border=\"1\" class=\"dataframe\">\n",
       "  <thead>\n",
       "    <tr style=\"text-align: right;\">\n",
       "      <th>Metabolite</th>\n",
       "      <th>Reaction</th>\n",
       "      <th>Flux</th>\n",
       "      <th>C-Number</th>\n",
       "      <th>C-Flux</th>\n",
       "    </tr>\n",
       "  </thead>\n",
       "  <tbody>\n",
       "    <tr>\n",
       "      <td>co2[e]</td>\n",
       "      <td>EX_co2_e</td>\n",
       "      <td>-40.65</td>\n",
       "      <td>1</td>\n",
       "      <td>100.00%</td>\n",
       "    </tr>\n",
       "    <tr>\n",
       "      <td>h2o[e]</td>\n",
       "      <td>EX_h2o_e</td>\n",
       "      <td>-52.69</td>\n",
       "      <td>0</td>\n",
       "      <td>0.00%</td>\n",
       "    </tr>\n",
       "    <tr>\n",
       "      <td>h[e]</td>\n",
       "      <td>EX_h_e</td>\n",
       "      <td>-33.16</td>\n",
       "      <td>0</td>\n",
       "      <td>0.00%</td>\n",
       "    </tr>\n",
       "  </tbody>\n",
       "</table>"
      ],
      "text/plain": [
       "<cobra.summary.model_summary.ModelSummary at 0x18bf2397ca0>"
      ]
     },
     "execution_count": 158,
     "metadata": {},
     "output_type": "execute_result"
    }
   ],
   "source": [
    "# Set glucose uptake:\n",
    "ecoli.reactions.get_by_id(\"EX_glc__D_e\").lower_bound = -18.5\n",
    "# Set oxygen uptake:\n",
    "ecoli.reactions.get_by_id(\"EX_o2_e\").lower_bound = -1000\n",
    "# Get the summary:\n",
    "ecoli.summary()"
   ]
  },
  {
   "attachments": {},
   "cell_type": "markdown",
   "metadata": {},
   "source": [
    "<span style=\"color:blue\">\n",
    "In the optimal solution the uptake fluxes of glucose is 18.5, ~9.0 for $NH_4^+$, ~38.7 for $O_2$, and ~6.1 for $P_i$."
   ]
  },
  {
   "cell_type": "markdown",
   "metadata": {},
   "source": [
    "(iii) What is the secretion profile of anaerobic growth on glucose? Compare with that of aerobic growth on glucose (ii) and give a biochemical explanation for their differences."
   ]
  },
  {
   "cell_type": "code",
   "execution_count": 159,
   "metadata": {},
   "outputs": [
    {
     "data": {
      "text/html": [
       "<h3>Objective</h3><p>1.0 BIOMASS_Ecoli_core_w_GAM = 0.4705651710886784</p><h4>Uptake</h4><table border=\"1\" class=\"dataframe\">\n",
       "  <thead>\n",
       "    <tr style=\"text-align: right;\">\n",
       "      <th>Metabolite</th>\n",
       "      <th>Reaction</th>\n",
       "      <th>Flux</th>\n",
       "      <th>C-Number</th>\n",
       "      <th>C-Flux</th>\n",
       "    </tr>\n",
       "  </thead>\n",
       "  <tbody>\n",
       "    <tr>\n",
       "      <td>co2[e]</td>\n",
       "      <td>EX_co2_e</td>\n",
       "      <td>0.8408</td>\n",
       "      <td>1</td>\n",
       "      <td>0.75%</td>\n",
       "    </tr>\n",
       "    <tr>\n",
       "      <td>glc-D[e]</td>\n",
       "      <td>EX_glc__D_e</td>\n",
       "      <td>18.5</td>\n",
       "      <td>6</td>\n",
       "      <td>99.25%</td>\n",
       "    </tr>\n",
       "    <tr>\n",
       "      <td>h2o[e]</td>\n",
       "      <td>EX_h2o_e</td>\n",
       "      <td>12.09</td>\n",
       "      <td>0</td>\n",
       "      <td>0.00%</td>\n",
       "    </tr>\n",
       "    <tr>\n",
       "      <td>nh4[e]</td>\n",
       "      <td>EX_nh4_e</td>\n",
       "      <td>2.566</td>\n",
       "      <td>0</td>\n",
       "      <td>0.00%</td>\n",
       "    </tr>\n",
       "    <tr>\n",
       "      <td>pi[e]</td>\n",
       "      <td>EX_pi_e</td>\n",
       "      <td>1.731</td>\n",
       "      <td>0</td>\n",
       "      <td>0.00%</td>\n",
       "    </tr>\n",
       "  </tbody>\n",
       "</table><h4>Secretion</h4><table border=\"1\" class=\"dataframe\">\n",
       "  <thead>\n",
       "    <tr style=\"text-align: right;\">\n",
       "      <th>Metabolite</th>\n",
       "      <th>Reaction</th>\n",
       "      <th>Flux</th>\n",
       "      <th>C-Number</th>\n",
       "      <th>C-Flux</th>\n",
       "    </tr>\n",
       "  </thead>\n",
       "  <tbody>\n",
       "    <tr>\n",
       "      <td>ac[e]</td>\n",
       "      <td>EX_ac_e</td>\n",
       "      <td>-15.17</td>\n",
       "      <td>2</td>\n",
       "      <td>33.05%</td>\n",
       "    </tr>\n",
       "    <tr>\n",
       "      <td>etoh[e]</td>\n",
       "      <td>EX_etoh_e</td>\n",
       "      <td>-14.67</td>\n",
       "      <td>2</td>\n",
       "      <td>31.97%</td>\n",
       "    </tr>\n",
       "    <tr>\n",
       "      <td>for[e]</td>\n",
       "      <td>EX_for_e</td>\n",
       "      <td>-32.12</td>\n",
       "      <td>1</td>\n",
       "      <td>34.98%</td>\n",
       "    </tr>\n",
       "    <tr>\n",
       "      <td>h[e]</td>\n",
       "      <td>EX_h_e</td>\n",
       "      <td>-56.73</td>\n",
       "      <td>0</td>\n",
       "      <td>0.00%</td>\n",
       "    </tr>\n",
       "  </tbody>\n",
       "</table>"
      ],
      "text/plain": [
       "<cobra.summary.model_summary.ModelSummary at 0x18bf0cc76d0>"
      ]
     },
     "execution_count": 159,
     "metadata": {},
     "output_type": "execute_result"
    }
   ],
   "source": [
    "# At anaerobic conditions the uptake of oxygen must be 0.\n",
    "# I.e. set the lower bound of reaction EX_o2_e to 0:\n",
    "ecoli.reactions.get_by_id(\"EX_o2_e\").lower_bound = 0\n",
    "\n",
    "# Get the summary:\n",
    "ecoli.summary()"
   ]
  },
  {
   "attachments": {},
   "cell_type": "markdown",
   "metadata": {},
   "source": [
    "<span style=\"color:blue\">\n"
   ]
  },
  {
   "cell_type": "markdown",
   "metadata": {},
   "source": [
    "(iv) Visualize the reaction fluxes of both the aerobic and anaerobic flux phenotypes using the *E. coli* core model pathway map (found [here](https://escher.github.io/#/app?map=e_coli_core.Core\\%20metabolism&tool=Builder&model=e_coli_core)) by creating a dictionary of reaction ids and corresponding fluxes, then writing this to a json file. Import the data into Escher by clicking Data $\\rightarrow$ Load reaction data, then select your json file. Describe and discuss the difference in flux distributions."
   ]
  },
  {
   "cell_type": "code",
   "execution_count": 160,
   "metadata": {},
   "outputs": [],
   "source": [
    "# From: https://www.geeksforgeeks.org/how-to-convert-python-dictionary-to-json/ \n",
    "dic = {reac.id : flx.flux for reac,flx in zip(ecoli.reactions, ecoli.reactions)}\n",
    "\n",
    "with open(\"json_ecoli.json\", \"w\") as outfile:\n",
    "    json.dump(dic, outfile)\n"
   ]
  },
  {
   "cell_type": "markdown",
   "metadata": {},
   "source": [
    "(v) Setting the maximal substrate uptake flux to 10 mmol gDW<sup>-1</sup> h<sup>-1</sup>, maximize growth using each of the carbon sources listed in Table 1 individually under both aerobic and anaerobic conditions.\n",
    "\n",
    "### Table 1 \n",
    "| Substrate | Exchange reaction ID |\n",
    "| --- | --- |\n",
    "| acetate | EX_ac_e |\n",
    "| acetaldehyde | EX_acald_e |\n",
    "| 2-oxoglutarate | EX_akg_e | \n",
    "| ethanol | EX_etoh_e |\n",
    "| D-fructose | EX_fru_e |\n",
    "| fumarate | EX_fum_e |\n",
    "| D-glucose | EX_glc__D_e |\n",
    "| L-glutamine | EX_gln_L_e |\n",
    "| L-glutamate | EX_glu_L_e |\n",
    "| D-lactate | EX_lac_D_e |\n",
    "| L-malate | EX_mal_L_e |\n",
    "| pyruvate | EX_pyr_e |\n",
    "| succinate | EX_succ_e |"
   ]
  },
  {
   "cell_type": "code",
   "execution_count": 163,
   "metadata": {},
   "outputs": [
    {
     "name": "stdout",
     "output_type": "stream",
     "text": [
      "----------------------------------------\n",
      "0.3893130740792487 \t\t -0.1097694840834248\n",
      "0.607269235614096 \t\t -9.162257051070531e-17\n",
      "1.098169394603894 \t\t 0.0\n",
      "0.699552380605221 \t\t 0.0\n",
      "1.7905689707194787 \t\t 0.5162537983863329\n",
      "0.7864891875841895 \t\t -0.011644200337812658\n",
      "1.79056897071948 \t\t 0.5162537983863331\n",
      "1.1636002256184361 \t\t -0.1097694840834248\n",
      "1.2424715963193096 \t\t -0.1097694840834248\n",
      "0.7402810052052707 \t\t -0.011644200337812683\n",
      "0.7864891875841891 \t\t -0.011644200337812615\n",
      "0.6221083142523831 \t\t 0.06554228431717418\n",
      "0.8401341768471444 \t\t -0.1097694840834248\n"
     ]
    },
    {
     "name": "stderr",
     "output_type": "stream",
     "text": [
      "C:\\Users\\Legion\\AppData\\Local\\Packages\\PythonSoftwareFoundation.Python.3.10_qbz5n2kfra8p0\\LocalCache\\local-packages\\Python310\\site-packages\\cobra\\util\\solver.py:554: UserWarning: Solver status is 'infeasible'.\n",
      "  warn(f\"Solver status is '{status}'.\", UserWarning)\n",
      "C:\\Users\\Legion\\AppData\\Local\\Packages\\PythonSoftwareFoundation.Python.3.10_qbz5n2kfra8p0\\LocalCache\\local-packages\\Python310\\site-packages\\cobra\\util\\solver.py:554: UserWarning: Solver status is 'infeasible'.\n",
      "  warn(f\"Solver status is '{status}'.\", UserWarning)\n",
      "C:\\Users\\Legion\\AppData\\Local\\Packages\\PythonSoftwareFoundation.Python.3.10_qbz5n2kfra8p0\\LocalCache\\local-packages\\Python310\\site-packages\\cobra\\util\\solver.py:554: UserWarning: Solver status is 'infeasible'.\n",
      "  warn(f\"Solver status is '{status}'.\", UserWarning)\n",
      "C:\\Users\\Legion\\AppData\\Local\\Packages\\PythonSoftwareFoundation.Python.3.10_qbz5n2kfra8p0\\LocalCache\\local-packages\\Python310\\site-packages\\cobra\\util\\solver.py:554: UserWarning: Solver status is 'infeasible'.\n",
      "  warn(f\"Solver status is '{status}'.\", UserWarning)\n",
      "C:\\Users\\Legion\\AppData\\Local\\Packages\\PythonSoftwareFoundation.Python.3.10_qbz5n2kfra8p0\\LocalCache\\local-packages\\Python310\\site-packages\\cobra\\util\\solver.py:554: UserWarning: Solver status is 'infeasible'.\n",
      "  warn(f\"Solver status is '{status}'.\", UserWarning)\n",
      "C:\\Users\\Legion\\AppData\\Local\\Packages\\PythonSoftwareFoundation.Python.3.10_qbz5n2kfra8p0\\LocalCache\\local-packages\\Python310\\site-packages\\cobra\\util\\solver.py:554: UserWarning: Solver status is 'infeasible'.\n",
      "  warn(f\"Solver status is '{status}'.\", UserWarning)\n",
      "C:\\Users\\Legion\\AppData\\Local\\Packages\\PythonSoftwareFoundation.Python.3.10_qbz5n2kfra8p0\\LocalCache\\local-packages\\Python310\\site-packages\\cobra\\util\\solver.py:554: UserWarning: Solver status is 'infeasible'.\n",
      "  warn(f\"Solver status is '{status}'.\", UserWarning)\n",
      "C:\\Users\\Legion\\AppData\\Local\\Packages\\PythonSoftwareFoundation.Python.3.10_qbz5n2kfra8p0\\LocalCache\\local-packages\\Python310\\site-packages\\cobra\\util\\solver.py:554: UserWarning: Solver status is 'infeasible'.\n",
      "  warn(f\"Solver status is '{status}'.\", UserWarning)\n",
      "C:\\Users\\Legion\\AppData\\Local\\Packages\\PythonSoftwareFoundation.Python.3.10_qbz5n2kfra8p0\\LocalCache\\local-packages\\Python310\\site-packages\\cobra\\util\\solver.py:554: UserWarning: Solver status is 'infeasible'.\n",
      "  warn(f\"Solver status is '{status}'.\", UserWarning)\n"
     ]
    }
   ],
   "source": [
    "ecoli.reactions.get_by_id(\"EX_glc__D_e\").lower_bound = 0 \n",
    "\n",
    "reac_lst = [\"EX_ac_e\", \"EX_acald_e\", \"EX_akg_e\", \"EX_etoh_e\",\n",
    "            \"EX_fru_e\",\"EX_fum_e\",\"EX_glc__D_e\",\"EX_gln_L_e\",\n",
    "            \"EX_glu_L_e\",\"EX_lac_D_e\",\"EX_mal_L_e\",\n",
    "            \"EX_pyr_e\",\"EX_succ_e\"]\n",
    "\n",
    "\n",
    "aerob = []\n",
    "ecoli.reactions.get_by_id(\"EX_o2_e\").lower_bound = -1000\n",
    "for reac_id in reac_lst:\n",
    "    #print(reac_id)\n",
    "    ecoli.reactions.get_by_id(reac_id).lower_bound = -20.0\n",
    "    aerob.append(ecoli.optimize().objective_value)\n",
    "\n",
    "    # Reset the lower bound for the tested substrate:\n",
    "    ecoli.reactions.get_by_id(reac_id).lower_bound = 0\n",
    "\n",
    "\n",
    "    \n",
    "anaerob = []\n",
    "ecoli.reactions.get_by_id(\"EX_o2_e\").lower_bound = 0\n",
    "for reac_id in reac_lst:\n",
    "    ecoli.reactions.get_by_id(reac_id).lower_bound = -20.0\n",
    "    anaerob.append(ecoli.optimize().objective_value)\n",
    "    #print(ecoli.optimize().objective_value)\n",
    "\n",
    "    # Reset the lower bound for the tested substrate:\n",
    "    ecoli.reactions.get_by_id(reac_id).lower_bound = 0\n",
    "\n",
    "print(\"-\"*40)\n",
    "for x,y in zip(aerob,anaerob):\n",
    "    print(x, \"\\t\\t\", y)"
   ]
  },
  {
   "cell_type": "code",
   "execution_count": 162,
   "metadata": {},
   "outputs": [
    {
     "name": "stdout",
     "output_type": "stream",
     "text": [
      "EX_ac_e\n",
      "EX_acald_e\n",
      "EX_akg_e\n",
      "EX_co2_e\n",
      "EX_etoh_e\n",
      "EX_for_e\n",
      "EX_fru_e\n",
      "EX_fum_e\n",
      "EX_glc__D_e\n",
      "EX_gln_L_e\n",
      "EX_glu_L_e\n",
      "EX_h_e\n",
      "EX_h2o_e\n",
      "EX_lac_D_e\n",
      "EX_mal_L_e\n",
      "EX_nh4_e\n",
      "EX_o2_e\n",
      "EX_pi_e\n",
      "EX_pyr_e\n",
      "EX_succ_e\n"
     ]
    }
   ],
   "source": [
    "for i in ecoli.reactions:\n",
    "    if (str(i.id).startswith(\"EX\")):\n",
    "        print(i.id)\n",
    "    # else:\n",
    "    #     print(i.name)\n",
    "    #print(type(i))"
   ]
  },
  {
   "cell_type": "code",
   "execution_count": null,
   "metadata": {},
   "outputs": [],
   "source": []
  }
 ],
 "metadata": {
  "interpreter": {
   "hash": "fd8ecb0a0e5529365023c160038f61c833598c1f7ab6b6860ba833c51f7774d8"
  },
  "kernelspec": {
   "display_name": "Python 3",
   "language": "python",
   "name": "python3"
  },
  "language_info": {
   "codemirror_mode": {
    "name": "ipython",
    "version": 3
   },
   "file_extension": ".py",
   "mimetype": "text/x-python",
   "name": "python",
   "nbconvert_exporter": "python",
   "pygments_lexer": "ipython3",
   "version": "3.10.10"
  }
 },
 "nbformat": 4,
 "nbformat_minor": 2
}
