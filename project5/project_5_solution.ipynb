{
 "cells": [
  {
   "attachments": {},
   "cell_type": "markdown",
   "metadata": {},
   "source": [
    "### Introduction\n",
    "\n",
    "Constraint-based metabolic models can not only be used to predict the wild type flux phenotype and properties of an organism, it can also be used to predict the behaviour of mutants by simulating gene/reaction deletions Consequently, metabolic modeling can be used to generate candidates and biological hypotheses before initiating expensive and time-consuming experiments in the lab. In this project, you will be using a computational framework, OptKnock, to identify candidate mutants with increased productivities of a target metabolite of interest.\n",
    "\n",
    "### 1.1 Metabolic engineering with OptKnock\n",
    "(i) Explain what flux variability analysis is and how it is used to find flux ranges of reactions in constraint-based metabolic models."
   ]
  },
  {
   "attachments": {},
   "cell_type": "markdown",
   "metadata": {},
   "source": [
    "**Observation:** \n",
    "Flux variability analysis (FVA) is a method for evaluating the minimum and maximum reaction\n",
    "fluxes in constraint-based metabolic models at a given fraction of the optimal objective value. In\n",
    "other words, FVA allows us to investigate the variability of reaction fluxes as they often can take on\n",
    "a range of values. The problem is solved as a double linear programming problem by first maximizing\n",
    "the flux of a reaction at a given fraction of the optimal objective value, then minimizing it."
   ]
  },
  {
   "attachments": {},
   "cell_type": "markdown",
   "metadata": {},
   "source": [
    "(ii) Using the *Escherichia coli* core model, what is the flux variability of acetate and succinate excretion when the model is growing optimally? What about at 50% of its optimal growth rate? Is the secretion of these metabolites coupled with growth? Discuss."
   ]
  },
  {
   "cell_type": "code",
   "execution_count": 3,
   "metadata": {},
   "outputs": [
    {
     "name": "stdout",
     "output_type": "stream",
     "text": [
      "\n",
      "\n",
      "Table 1:\n",
      "Acetate secretion (100% optimal), min flux: 0.0000, max flux: 0.0000\n",
      "Acetate secretion (50% optimal), min flux: 0.0000, max flux: 13.3589\n",
      "Succinate secretion (100% optimal), min flux: 0.0000, max flux: -0.0000\n",
      "Succinate secretion (50% optimal), min flux: 0.0000, max flux: 8.3075\n"
     ]
    }
   ],
   "source": [
    "import cobra\n",
    "import tbtFunctions as tbt\n",
    "import matplotlib.pyplot as plt\n",
    "import json\n",
    "import sys\n",
    "import warnings\n",
    "import copy\n",
    "\n",
    "# Suppress annoying warnings\n",
    "if not sys.warnoptions:\n",
    "    warnings.simplefilter('ignore')\n",
    "\n",
    "def write_flux_json(filename, model):\n",
    "    ''' write_flux_json writes a json file from a dictionary of model reactions\n",
    "    and associated flux values\n",
    "    '''\n",
    "    model.optimize()\n",
    "    flux_dict = cobra.core.solution.get_solution(model).fluxes.to_dict()    # reaction:flux dict\n",
    "    with open(filename, 'w') as f:\n",
    "        json.dump(flux_dict, f)\n",
    "\n",
    "# Read model\n",
    "ecoli_core =  cobra.io.read_sbml_model('ecoli_core_model.xml')\n",
    "ecoli_core.solver = 'glpk'\n",
    "\n",
    "print('\\n\\nTable 1:')\n",
    "# Flux variability acetate (100% and 50% of optimal growth)\n",
    "fva_ac_100 = cobra.flux_analysis.flux_variability_analysis(ecoli_core, 'EX_ac_e', fraction_of_optimum=1)\n",
    "fva_ac_50 = cobra.flux_analysis.flux_variability_analysis(ecoli_core, 'EX_ac_e', fraction_of_optimum=0.5)\n",
    "print('Acetate secretion (100% optimal), min flux: {:.4f}, max flux: {:.4f}'.format(fva_ac_100['minimum'][0], fva_ac_100['maximum'][0]))\n",
    "print('Acetate secretion (50% optimal), min flux: {:.4f}, max flux: {:.4f}'.format(fva_ac_50['minimum'][0], fva_ac_50['maximum'][0]))\n",
    "\n",
    "# Flux variability succinate (100% and 50% of optimal growth)\n",
    "fva_succ_100 = cobra.flux_analysis.flux_variability_analysis(ecoli_core, 'EX_succ_e', fraction_of_optimum=1)\n",
    "fva_succ_50 = cobra.flux_analysis.flux_variability_analysis(ecoli_core, 'EX_succ_e', fraction_of_optimum=0.5)\n",
    "\n",
    "print('Succinate secretion (100% optimal), min flux: {:.4f}, max flux: {:.4f}'.format(fva_succ_100['minimum'][0], fva_succ_100['maximum'][0]))\n",
    "print('Succinate secretion (50% optimal), min flux: {:.4f}, max flux: {:.4f}'.format(fva_succ_50['minimum'][0], fva_succ_50['maximum'][0]))\n",
    "\n"
   ]
  },
  {
   "attachments": {},
   "cell_type": "markdown",
   "metadata": {},
   "source": [
    "**Observations:**\n",
    "\n",
    "Simulating the flux variability of acetate and succinate secretion at $100$% and $50$% of optimal\n",
    "growth, we find that secretion of these metabolites are not growth coupled in this particular\n",
    "metabolic model of E. coli. In fact, we find that the model is unable to secrete either when\n",
    "growing optimally; all available carbon is used for energy and biomass production (see Table 1).\n",
    "\n",
    "At $50$% of optimal growth, we see that there is capacity for production (i.e. maximal attainable\n",
    "flux is non-zero), but the minimal flux remains at $0$, suggesting that the model still is capable of not\n",
    "producing any excess of these metabolites. However, as we will see later on, we are able to induce\n",
    "a direct growth-coupling for these metabolites through reaction knockouts using the OptKnock\n",
    "framework."
   ]
  },
  {
   "attachments": {},
   "cell_type": "markdown",
   "metadata": {},
   "source": [
    "(iii) In your own words, provide a description of OptKnock. What is it used for and what are the underlying assumptions of the framework?"
   ]
  },
  {
   "attachments": {},
   "cell_type": "markdown",
   "metadata": {},
   "source": [
    "**Observations:**\n",
    "\n",
    "OptKnock is a computational framework to identify knockout mutant candidates with increased\n",
    "production of a target metabolite of interest. The algorithm attempts to identify single- or multiple\n",
    "reaction knockouts in which the flux through a target reaction is increased compared to that of the\n",
    "wild type. The algorithm works by altering the topology of the metabolic network through reaction\n",
    "deletions to induce a (stronger) flux coupling between growth and target metabolite production.\n",
    "Subsequent optimization for growth will consequently necessitate production of the target metabo-\n",
    "lite. The underlying assumption of the method is that the organism has evolved towards optimal\n",
    "growth not only before, but also following the genetic perturbation (i.e. knockout). We will later\n",
    "discuss how this assumption might be invalid."
   ]
  },
  {
   "attachments": {},
   "cell_type": "markdown",
   "metadata": {},
   "source": [
    "(iv) We will now use OptKnock, found as the function `phonyOptKnock` in the `tbtFunctions` module to identify reactions whose associated genes can be knocked out to increase acetate secretion. As the name of the function might suggest, this is not a proper implementation of the OptKnock algorithm as the one that should have been compatible with cobrapy is buggy and rather annoying. This brute-force implementation instead tests all individual knockout combinations (after some reaction filtering) and rank-orders them based on the results. Since we are working with the relatively small *E. coli* core model, simulating single and double knockout combinations are rather quick. However, be wary of the time complexity if you want to test triple and quadruple knockout strategies... \n",
    "\n",
    "(a) In the result dataframe returned by `phonyOptKnock`, what do you think is most useful for making predictions of acetate secretion, fva_min or fva_max?"
   ]
  },
  {
   "attachments": {},
   "cell_type": "markdown",
   "metadata": {},
   "source": [
    "**Observations:**\n",
    "\n",
    "fva_min and fva_max are the results of running FVA on the target metabolite exchange reaction, \n",
    "when a reaction(s) has been deleted from the model. As such, at $100$% optimal conditions,\n",
    "it gives the interval of target metabolite exchange fluxes. If the cell is growing $100$% optimally,\n",
    "fva_min gives the minimum expected exchange flux. fva_min is therefore what we should use\n",
    "when trying to find reactions to knock out to increase the target exchange flux, since if a\n",
    "reaction has fva_min $= 0$ but maxProd $> 0$, it's entirely possible to have zero target metabo-\n",
    "lite exchange flux when the cell is growing optimally. When minProd $> 0$, we have a growth\n",
    "coupled mutant, meaning that optimal growth is flux-coupled to target compound production.\n"
   ]
  },
  {
   "attachments": {},
   "cell_type": "markdown",
   "metadata": {},
   "source": [
    "(b) Perform a single knockout deletion with `OptKnock` for acetate secretion. How many candidate mutants have enforced acetate production at optimal growth? What is/are the best-performing mutant(s)?"
   ]
  },
  {
   "cell_type": "code",
   "execution_count": 4,
   "metadata": {},
   "outputs": [
    {
     "data": {
      "text/html": [
       "<div>\n",
       "<style scoped>\n",
       "    .dataframe tbody tr th:only-of-type {\n",
       "        vertical-align: middle;\n",
       "    }\n",
       "\n",
       "    .dataframe tbody tr th {\n",
       "        vertical-align: top;\n",
       "    }\n",
       "\n",
       "    .dataframe thead th {\n",
       "        text-align: right;\n",
       "    }\n",
       "</style>\n",
       "<table border=\"1\" class=\"dataframe\">\n",
       "  <thead>\n",
       "    <tr style=\"text-align: right;\">\n",
       "      <th></th>\n",
       "      <th>reactions</th>\n",
       "      <th>target</th>\n",
       "      <th>biomass</th>\n",
       "      <th>fva_min</th>\n",
       "      <th>fva_max</th>\n",
       "    </tr>\n",
       "  </thead>\n",
       "  <tbody>\n",
       "    <tr>\n",
       "      <th>12</th>\n",
       "      <td>[CYTBD]</td>\n",
       "      <td>8.503585</td>\n",
       "      <td>0.211663</td>\n",
       "      <td>8.503585</td>\n",
       "      <td>8.503585</td>\n",
       "    </tr>\n",
       "    <tr>\n",
       "      <th>42</th>\n",
       "      <td>[NADH16]</td>\n",
       "      <td>8.503585</td>\n",
       "      <td>0.211663</td>\n",
       "      <td>8.503585</td>\n",
       "      <td>8.503585</td>\n",
       "    </tr>\n",
       "    <tr>\n",
       "      <th>0</th>\n",
       "      <td>[ACALD]</td>\n",
       "      <td>0.0</td>\n",
       "      <td>0.873922</td>\n",
       "      <td>0.0</td>\n",
       "      <td>0</td>\n",
       "    </tr>\n",
       "    <tr>\n",
       "      <th>54</th>\n",
       "      <td>[PPS]</td>\n",
       "      <td>0.0</td>\n",
       "      <td>0.873922</td>\n",
       "      <td>0.0</td>\n",
       "      <td>0</td>\n",
       "    </tr>\n",
       "    <tr>\n",
       "      <th>39</th>\n",
       "      <td>[MDH]</td>\n",
       "      <td>0.0</td>\n",
       "      <td>0.825819</td>\n",
       "      <td>0.0</td>\n",
       "      <td>0</td>\n",
       "    </tr>\n",
       "  </tbody>\n",
       "</table>\n",
       "</div>"
      ],
      "text/plain": [
       "   reactions    target   biomass   fva_min   fva_max\n",
       "12   [CYTBD]  8.503585  0.211663  8.503585  8.503585\n",
       "42  [NADH16]  8.503585  0.211663  8.503585  8.503585\n",
       "0    [ACALD]       0.0  0.873922       0.0         0\n",
       "54     [PPS]       0.0  0.873922       0.0         0\n",
       "39     [MDH]       0.0  0.825819       0.0         0"
      ]
     },
     "execution_count": 4,
     "metadata": {},
     "output_type": "execute_result"
    }
   ],
   "source": [
    "#Single knockout OptKnock acetate\n",
    "single_ac = tbt.phonyOptKnock(ecoli_core, 'EX_ac_e', reactions=None, knockouts=1)\n",
    "single_ac.head()"
   ]
  },
  {
   "attachments": {},
   "cell_type": "markdown",
   "metadata": {},
   "source": [
    "**Observations:**\n",
    "\n",
    "Running `OptKnock` for acetate production with one knockout, we find two candidate mutants\n",
    "with an enforced production of acetate, evident from the non-zero flux of fva min. These\n",
    "mutants have knocked out the reactions CYTBD (cytochrome oxidase) and NADH16 (NADH\n",
    "dehydrogenase), respectively. Thus, if these mutants grow optimally, the model predicts that\n",
    "they necessarily have to secrete acetate at a minimal flux of around 8.5 mmol gDW<sup>-1</sup> h<sup>-1</sup>."
   ]
  },
  {
   "attachments": {},
   "cell_type": "markdown",
   "metadata": {},
   "source": [
    "(c) Redo your analysis in (b), but now with double knockouts."
   ]
  },
  {
   "cell_type": "code",
   "execution_count": 5,
   "metadata": {},
   "outputs": [
    {
     "data": {
      "text/html": [
       "<div>\n",
       "<style scoped>\n",
       "    .dataframe tbody tr th:only-of-type {\n",
       "        vertical-align: middle;\n",
       "    }\n",
       "\n",
       "    .dataframe tbody tr th {\n",
       "        vertical-align: top;\n",
       "    }\n",
       "\n",
       "    .dataframe thead th {\n",
       "        text-align: right;\n",
       "    }\n",
       "</style>\n",
       "<table border=\"1\" class=\"dataframe\">\n",
       "  <thead>\n",
       "    <tr style=\"text-align: right;\">\n",
       "      <th></th>\n",
       "      <th>reactions</th>\n",
       "      <th>target</th>\n",
       "      <th>biomass</th>\n",
       "      <th>fva_min</th>\n",
       "      <th>fva_max</th>\n",
       "    </tr>\n",
       "  </thead>\n",
       "  <tbody>\n",
       "    <tr>\n",
       "      <th>646</th>\n",
       "      <td>[ATPS4r, FUM]</td>\n",
       "      <td>14.312267</td>\n",
       "      <td>0.37423</td>\n",
       "      <td>14.312267</td>\n",
       "      <td>14.312267</td>\n",
       "    </tr>\n",
       "    <tr>\n",
       "      <th>663</th>\n",
       "      <td>[ATPS4r, MDH]</td>\n",
       "      <td>14.312267</td>\n",
       "      <td>0.37423</td>\n",
       "      <td>14.312267</td>\n",
       "      <td>14.312267</td>\n",
       "    </tr>\n",
       "    <tr>\n",
       "      <th>686</th>\n",
       "      <td>[ATPS4r, SUCDi]</td>\n",
       "      <td>14.312267</td>\n",
       "      <td>0.37423</td>\n",
       "      <td>14.312267</td>\n",
       "      <td>14.312267</td>\n",
       "    </tr>\n",
       "    <tr>\n",
       "      <th>687</th>\n",
       "      <td>[ATPS4r, SUCOAS]</td>\n",
       "      <td>14.312267</td>\n",
       "      <td>0.37423</td>\n",
       "      <td>13.239874</td>\n",
       "      <td>14.312267</td>\n",
       "    </tr>\n",
       "    <tr>\n",
       "      <th>396</th>\n",
       "      <td>[AKGDH, ATPS4r]</td>\n",
       "      <td>14.312267</td>\n",
       "      <td>0.37423</td>\n",
       "      <td>13.239874</td>\n",
       "      <td>14.312267</td>\n",
       "    </tr>\n",
       "  </tbody>\n",
       "</table>\n",
       "</div>"
      ],
      "text/plain": [
       "            reactions     target  biomass    fva_min    fva_max\n",
       "646     [ATPS4r, FUM]  14.312267  0.37423  14.312267  14.312267\n",
       "663     [ATPS4r, MDH]  14.312267  0.37423  14.312267  14.312267\n",
       "686   [ATPS4r, SUCDi]  14.312267  0.37423  14.312267  14.312267\n",
       "687  [ATPS4r, SUCOAS]  14.312267  0.37423  13.239874  14.312267\n",
       "396   [AKGDH, ATPS4r]  14.312267  0.37423  13.239874  14.312267"
      ]
     },
     "execution_count": 5,
     "metadata": {},
     "output_type": "execute_result"
    }
   ],
   "source": [
    "#Double knockout OptKnock acetate\n",
    "double_ac = tbt.phonyOptKnock(ecoli_core, 'EX_ac_e', reactions=None, knockouts=2)\n",
    "double_ac.head()"
   ]
  },
  {
   "attachments": {},
   "cell_type": "markdown",
   "metadata": {},
   "source": [
    "**Observations:**\n",
    "\n",
    "We now find $122$ double knockout mutant candidates with an enforced acetate production\n",
    "(fva_min $> 0$). These production fluxes range from $0.14$ mmol gDW<sup>-1</sup> h<sup>-1</sup> for the worst-\n",
    "performing candidates, to $14.3$ mmol gDW<sup>-1</sup> h<sup>-1</sup> for the best-performing ones. There are three\n",
    "best-performing mutants, all with an enforced acetate secretion flux of $14.31$ mmol gDW<sup>-1</sup> h<sup>-1</sup>\n",
    "at optimal growth. These mutants all have the ATPS4r (ATP synthase) knocked out, as well\n",
    "as an enzyme of the TCA cycle (FUM: fumarase, MDH: malate dehydrogenase, or SUCDi: succinate dehydrogenase)."
   ]
  },
  {
   "attachments": {},
   "cell_type": "markdown",
   "metadata": {},
   "source": [
    "(d) Plot the production envelope of acetate secretion vs. growth of the wild type model and one of the best-performing mutants in (b-c). In your own words, explain what this figure is showing."
   ]
  },
  {
   "cell_type": "code",
   "execution_count": 6,
   "metadata": {},
   "outputs": [
    {
     "data": {
      "text/plain": [
       "<matplotlib.legend.Legend at 0x216850f1300>"
      ]
     },
     "execution_count": 6,
     "metadata": {},
     "output_type": "execute_result"
    },
    {
     "data": {
      "image/png": "[encoded data removed]",
      "text/plain": [
       "<Figure size 640x480 with 1 Axes>"
      ]
     },
     "metadata": {},
     "output_type": "display_data"
    }
   ],
   "source": [
    "fig1, ax1 = plt.subplots()\n",
    "prod_env = cobra.flux_analysis.production_envelope(ecoli_core, ['BIOMASS_Ecoli_core_w_GAM'], objective='EX_ac_e')\n",
    "prod_env.plot(kind='line', x='BIOMASS_Ecoli_core_w_GAM', y=['flux_minimum'], ylabel='EX_ac_e', ax=ax1, color='blue')\n",
    "prod_env.plot(kind='line', x='BIOMASS_Ecoli_core_w_GAM', y=['flux_maximum'], ylabel='EX_ac_e', ax=ax1, color='blue')\n",
    "\n",
    "# Knockout reactions by constraining flux to 0\n",
    "ac_model = copy.deepcopy(ecoli_core)\n",
    "ac_model.reactions.FUM.lower_bound = 0.0\n",
    "ac_model.reactions.FUM.upper_bound = 0.0\n",
    "ac_model.reactions.ATPS4r.lower_bound = 0.0\n",
    "ac_model.reactions.ATPS4r.upper_bound = 0.0\n",
    "prod_env = cobra.flux_analysis.production_envelope(ac_model, ['BIOMASS_Ecoli_core_w_GAM'], objective='EX_ac_e')\n",
    "prod_env.plot(kind='line', x='BIOMASS_Ecoli_core_w_GAM', y=['flux_minimum'], ylabel='EX_ac_e', ax=ax1, color='orange', linestyle='dashed')\n",
    "prod_env.plot(kind='line', x='BIOMASS_Ecoli_core_w_GAM', y=['flux_maximum'], ylabel='EX_ac_e', ax=ax1, color='orange', linestyle='dashed')\n",
    "plt.legend(['Min/max WT', '_nolegend_', 'Min/max KO', '_nolegend_'])"
   ]
  },
  {
   "attachments": {},
   "cell_type": "markdown",
   "metadata": {},
   "source": [
    "**Observations:**\n",
    "\n",
    "This figure shows us the production envelope for acetate for the wild type and mutant model, and\n",
    "it is basically a graphical representation of the flux variability in the acetate excretion at different\n",
    "growth rates (i.e. the minimal and maximal flux of acetate secretion). We see that in our\n",
    "mutant, acetate production is growth coupled when the specific growth rate exceeds around\n",
    "$0.15$ h<sup>-1</sup>, while it always is uncoupled with growth in the wild type. In the mutant, the\n",
    "minimal flux of acetate secretion rapidly increases with growth until it reaches its new growth\n",
    "optimum of $0.37$ h<sup>-1</sup> with a corresponding min/max acetate secretion of $14.3$ mmol gDW<sup>-1</sup> h<sup>-1</sup>."
   ]
  },
  {
   "attachments": {},
   "cell_type": "markdown",
   "metadata": {},
   "source": [
    "(v) Redo (iv) (b-d), but now with succinate secretion as the target reaction."
   ]
  },
  {
   "cell_type": "code",
   "execution_count": 7,
   "metadata": {},
   "outputs": [
    {
     "name": "stdout",
     "output_type": "stream",
     "text": [
      "\n",
      "Single knockout:\n",
      "   reactions target   biomass fva_min fva_max\n",
      "0    [ACALD]    0.0  0.873922     0.0       0\n",
      "37    [MALS]    0.0  0.873922     0.0       0\n",
      "39     [MDH]    0.0  0.825819     0.0       0\n",
      "40     [ME1]    0.0  0.873922     0.0       0\n",
      "41     [ME2]    0.0  0.873922     0.0       0\n",
      "\n",
      "Double knockout:\n",
      "            reactions    target   biomass   fva_min   fva_max\n",
      "756    [CYTBD, FORti]  0.678148  0.179985  0.678148  0.678148\n",
      "783      [CYTBD, PFL]  0.678148  0.179985  0.678148  0.678148\n",
      "0       [ACALD, ACKr]       0.0  0.873922       0.0         0\n",
      "1612  [GLUN, MALt2_2]       0.0  0.873922       0.0         0\n",
      "1620      [GLUN, PFL]       0.0  0.873922       0.0         0\n"
     ]
    },
    {
     "data": {
      "text/plain": [
       "<matplotlib.legend.Legend at 0x2169bcaf8e0>"
      ]
     },
     "execution_count": 7,
     "metadata": {},
     "output_type": "execute_result"
    },
    {
     "data": {
      "image/png": "[encoded data removed]",
      "text/plain": [
       "<Figure size 640x480 with 1 Axes>"
      ]
     },
     "metadata": {},
     "output_type": "display_data"
    }
   ],
   "source": [
    "# (v) b) Single knockout OptKnock succinate\n",
    "single_succ = tbt.phonyOptKnock(ecoli_core, 'EX_succ_e', reactions=None, knockouts=1)\n",
    "print(\"\\nSingle knockout:\")\n",
    "print(single_succ.head())\n",
    "\n",
    "# c) Double knockout OptKnock succiante\n",
    "double_succ = tbt.phonyOptKnock(ecoli_core, 'EX_succ_e', reactions=None, knockouts=2)\n",
    "print(\"\\nDouble knockout:\")\n",
    "print(double_succ.head())\n",
    "\n",
    "# d) Production envelope succinate (wild type and mutant)\n",
    "fig2, ax2 = plt.subplots()\n",
    "prod_env = cobra.flux_analysis.production_envelope(ecoli_core, ['BIOMASS_Ecoli_core_w_GAM'], objective='EX_succ_e')\n",
    "prod_env.plot(kind='line', x='BIOMASS_Ecoli_core_w_GAM', y=['flux_minimum'], ylabel='EX_succ_e', ax=ax2, color='blue')\n",
    "prod_env.plot(kind='line', x='BIOMASS_Ecoli_core_w_GAM', y=['flux_maximum'], ylabel='EX_succ_e', ax=ax2, color='blue')\n",
    "\n",
    "# Knockout reactions by constraining flux to 0 (double KO CYTBD + PFL)\n",
    "succ_model = copy.deepcopy(ecoli_core)\n",
    "succ_model.reactions.CYTBD.lower_bound = 0.0\n",
    "succ_model.reactions.CYTBD.upper_bound = 0.0\n",
    "succ_model.reactions.PFL.lower_bound = 0.0\n",
    "succ_model.reactions.PFL.upper_bound = 0.0\n",
    "prod_env = cobra.flux_analysis.production_envelope(succ_model, ['BIOMASS_Ecoli_core_w_GAM'], objective='EX_succ_e')\n",
    "\n",
    "prod_env.plot(kind='line', x='BIOMASS_Ecoli_core_w_GAM', y=['flux_minimum'], ylabel='EX_succ_e', ax=ax2, color='orange', linestyle='dashed')\n",
    "prod_env.plot(kind='line', x='BIOMASS_Ecoli_core_w_GAM', y=['flux_maximum'], ylabel='EX_succ_e', ax=ax2, color='orange', linestyle='dashed')\n",
    "plt.legend(['Min/max WT', '_nolegend_', 'Min/max KO', '_nolegend_'])"
   ]
  },
  {
   "attachments": {},
   "cell_type": "markdown",
   "metadata": {},
   "source": [
    "(b)\n",
    "\n",
    "**Observations:**\n",
    "No single knockout candidate mutants have an enforced succinate production at optimal\n",
    "growth. This suggests that, using this particular model, we are not able to induce a flux\n",
    "coupling between growth and succinate production using only a single reaction deletion.\n",
    "\n",
    "(c)\n",
    "\n",
    "**Observations:**\n",
    "\n",
    "We find two equally-performing mutant candidates with an enforced succinate production at\n",
    "optimal growth. Both mutants have knocked out CYTBD (cytochrome oxidase), and either of\n",
    "PFL (pyruvate formate lyase) or FORti (formate transport). The secretion flux of the mutants\n",
    "are forced to be around $0.69$ mmol gDW<sup>-1</sup> h<sup>-1</sup> at the growth optimum of $0.18$ h<sup>-1</sup>.\n",
    "\n",
    "(d)\n",
    "\n",
    "**Observations:**\n",
    "\n",
    "The production envelope figure shows how the succinate production, although low, is strictly\n",
    "growth-coupled at any feasible growth rate from $0$ to its maximum of around $0.18$ h<sup>-1</sup>. \n",
    "Consequently, we observe a rather substantial reduction in growth, with a rather minor secretion flux\n",
    "of succinate. An avenue worth exploring might have been to test triple knockout strategies,\n",
    "or possible run `OptKnock` on alternative environmental conditions such as anaerobic growth."
   ]
  },
  {
   "attachments": {},
   "cell_type": "markdown",
   "metadata": {},
   "source": [
    "(vi) Pick one of the best performing double knockout mutants in (iv) or (v) and visualize its optimal flux distribution and compare it to that of the wild type. Provide a biochemical explanation for why the mutant has a higher secretion of acetate/succinate."
   ]
  },
  {
   "cell_type": "code",
   "execution_count": 8,
   "metadata": {},
   "outputs": [],
   "source": [
    "# (vi) Visualize flux distributions\n",
    "succ_CYTBD_model = copy.deepcopy(ecoli_core)\n",
    "succ_CYTBD_model.reactions.CYTBD.lower_bound = 0.0\n",
    "succ_CYTBD_model.reactions.CYTBD.upper_bound = 0.0\n",
    "write_flux_json('wild_type.json', ecoli_core)  # wild type\n",
    "write_flux_json('CYTDB_KO.json', succ_CYTBD_model)  # CYTBD KO\n",
    "write_flux_json('double_succ_KO.json', succ_model)  # succinate double KO"
   ]
  },
  {
   "attachments": {},
   "cell_type": "markdown",
   "metadata": {},
   "source": [
    "**Observations:**\n",
    "We see that introducing the knockout of CYTBD (cytochrome oxidase) induces a production of\n",
    "the fermentation products acetate, ethanol and formate. By further knocking out PFL (pyruvate\n",
    "formate lyase), or alternatively, FORti (formate transport) we effectively force flux back into the\n",
    "TCA cycle, but now in the opposite direction of the wild type model, eventually producing succinate."
   ]
  },
  {
   "attachments": {},
   "cell_type": "markdown",
   "metadata": {},
   "source": [
    "Alternatively to using the online version of Escher, we can display the flux distributions inline in this Jupyter notebook:"
   ]
  },
  {
   "cell_type": "code",
   "execution_count": 10,
   "metadata": {},
   "outputs": [
    {
     "name": "stdout",
     "output_type": "stream",
     "text": [
      "\n",
      "\n",
      "Flux distribution of the wild type E. coli core model\n"
     ]
    },
    {
     "data": {
      "application/vnd.jupyter.widget-view+json": {
       "model_id": "a13d44d3490745f2867dd1b3c0c340ca",
       "version_major": 2,
       "version_minor": 0
      },
      "text/plain": [
       "Builder(reaction_data={'ACALD': 0.0, 'ACALDt': 0.0, 'ACKr': 0.0, 'ACONTa': 6.007249575350337, 'ACONTb': 6.0072…"
      ]
     },
     "metadata": {},
     "output_type": "display_data"
    }
   ],
   "source": [
    "import escher\n",
    "builder1 = escher.Builder(\n",
    "    height=500,\n",
    "    map_name='',\n",
    "    model_json='e_coli_core.json',\n",
    "    map_json='e_coli_core.Core metabolism.json',\n",
    ")\n",
    "print(\"\\n\\nFlux distribution of the wild type E. coli core model\")\n",
    "solution = ecoli_core.optimize()\n",
    "builder1.reaction_data = solution.fluxes\n",
    "builder1"
   ]
  },
  {
   "cell_type": "code",
   "execution_count": 11,
   "metadata": {},
   "outputs": [
    {
     "name": "stdout",
     "output_type": "stream",
     "text": [
      "\n",
      "\n",
      "Flux distribution of the delta-CYTBD mutant E. coli core model\n"
     ]
    },
    {
     "data": {
      "application/vnd.jupyter.widget-view+json": {
       "model_id": "778d870092af447a9e161de8618ef431",
       "version_major": 2,
       "version_minor": 0
      },
      "text/plain": [
       "Builder(reaction_data={'ACALD': -8.279455380486583, 'ACALDt': 0.0, 'ACKr': -8.503585277961305, 'ACONTa': 0.228…"
      ]
     },
     "metadata": {},
     "output_type": "display_data"
    }
   ],
   "source": [
    "builder2 = escher.Builder(\n",
    "    height=500,\n",
    "    map_name='',\n",
    "    model_json='e_coli_core.json',\n",
    "    map_json='e_coli_core.Core metabolism.json',\n",
    ")\n",
    "print(\"\\n\\nFlux distribution of the delta-CYTBD mutant E. coli core model\")\n",
    "solution = succ_CYTBD_model.optimize()\n",
    "builder2.reaction_data = solution.fluxes\n",
    "builder2"
   ]
  },
  {
   "cell_type": "code",
   "execution_count": 12,
   "metadata": {},
   "outputs": [
    {
     "name": "stdout",
     "output_type": "stream",
     "text": [
      "\n",
      "\n",
      "Flux distribution of the delta-CYTBD delta-PFL mutant E. coli core model\n"
     ]
    },
    {
     "data": {
      "application/vnd.jupyter.widget-view+json": {
       "model_id": "8522056fd98144d7a81c11bbef5eb68c",
       "version_major": 2,
       "version_minor": 0
      },
      "text/plain": [
       "Builder(reaction_data={'ACALD': -16.586347970534895, 'ACALDt': 0.0, 'ACKr': 0.0, 'ACONTa': 0.19418596007602476…"
      ]
     },
     "metadata": {},
     "output_type": "display_data"
    }
   ],
   "source": [
    "builder3 = escher.Builder(\n",
    "    height=500,\n",
    "    map_name='',\n",
    "    model_json='e_coli_core.json',\n",
    "    map_json='e_coli_core.Core metabolism.json',\n",
    ")\n",
    "print(\"\\n\\nFlux distribution of the delta-CYTBD delta-PFL mutant E. coli core model\")\n",
    "solution = succ_model.optimize()\n",
    "builder3.reaction_data = solution.fluxes\n",
    "builder3"
   ]
  },
  {
   "attachments": {},
   "cell_type": "markdown",
   "metadata": {},
   "source": [
    "(vii) In your own words, explain minimization of metabolic adjustment (MOMA) and its underlying assumptions. Using your selected mutant in (iv) or (v) c), simulate the MOMA flux distribution and discuss the resulting growth rate and secretion flux of the target metabolite. If the production of the target metabolite is lower than for the FBA solution, what could you do experimentally to improve the secretion flux?"
   ]
  },
  {
   "cell_type": "code",
   "execution_count": 13,
   "metadata": {},
   "outputs": [
    {
     "name": "stdout",
     "output_type": "stream",
     "text": [
      "MOMA growth: 0.0560 h^-1\n",
      "MOMA acetate secretion: -0.0000 mmol/gDW h\n"
     ]
    }
   ],
   "source": [
    "# (vii) MOMA flux distribution\n",
    "sol = cobra.flux_analysis.moma(ac_model, solution=ecoli_core.optimize())\n",
    "print('MOMA growth: {:.4f} h^-1'.format(sol.fluxes['BIOMASS_Ecoli_core_w_GAM']))\n",
    "print('MOMA acetate secretion: {:.4f} mmol/gDW h'.format(sol.fluxes['EX_ac_e']))"
   ]
  },
  {
   "attachments": {},
   "cell_type": "markdown",
   "metadata": {},
   "source": [
    "**Observations:**\n",
    "\n",
    "MOMA (minimization of metabolic adjustment) is used to predict the fluxes of organisms \n",
    "immediately following a perturbation such as a gene knockout by finding a flux vector in this new\n",
    "solution space that is as close as possible to the original flux vector of the wild type model. This\n",
    "is usually found by minimizing the Euclidean distance and is commonly formulated as a quadratic\n",
    "programming problem. It relies on the assumption that the organism have yet to have had time to\n",
    "re-organize its fluxes by altering its metabolic regulation towards growth optimality. The resulting\n",
    "flux distribution will instead be as close as possible to that of the wild type flux distribution. \n",
    "This is motivated by the fact that the growth phenotype of mutants immediately following a knockout\n",
    "is usually far from a theoretical optimum predicted by standard FBA, which requires adaptive\n",
    "laboratory evolution over many generations to achieve.\n",
    "\n",
    "By simulating the MOMA flux distribution of our best-performing double-knockout mutant from\n",
    "(iv) c), we see that MOMA predicts that the growth rate and acetate secretion flux only will be\n",
    "$0.056$ h<sup>-1</sup> and $0.0$ mmol gDW<sup>-1</sup> h<sup>-1</sup>, respectively. Thus we would \n",
    "expect that immediately followingthe genetic perturbation (knockout), the mutant will grow poorly and \n",
    "not secrete any acetate. In first of the production envelope plots in the project, the mutant is situated \n",
    "at a growth rate below $0.15$ h<sup>-1</sup>, thus there is no enforced flux coupling of acetate \n",
    "secretion and biomass production. By selecting for fast growers over time (adaptive laboratory evolution), \n",
    "we could move the flux distribution from its sub-optimal MOMA distribution towards growth optimality of \n",
    "the FBA solution, which should entail a substantial increase in acetate secretion (see first prod. env. plot)."
   ]
  },
  {
   "attachments": {},
   "cell_type": "markdown",
   "metadata": {},
   "source": [
    "(viii) Thraustochytrids are heterotrophic microorganisms that under nitrogen depletion and growth cessation begins synthesizing and accumulating large amounts of lipids containing $\\omega$-3-fatty acids. Given what you have learned about OptKnock, discuss whether or not this method might be applicable for this specific problem to identify potential knockout mutants with increased lipid productivities."
   ]
  },
  {
   "attachments": {},
   "cell_type": "markdown",
   "metadata": {},
   "source": [
    "**Observations:**\n",
    "\n",
    "Here, there is no clear right or wrong answer. The major observation that could indicate that\n",
    "OptKnock might not be the best approach, is that lipid production is innately uncoupled to biomass\n",
    "production as the organism begins synthesizing it in response to nitrogen being depleted from the\n",
    "medium (nitrogen is indispensable for synthesis of e.g., proteins, RNA, and DNA). Evolutionary\n",
    "this is a commonly observed strategy of scavenging and storing carbon for energy in preparation\n",
    "for an ensuing period of starvation (no available nitrogen for biomass production). Consequently,\n",
    "inducing a growth coupling might overall be sub-optimal as this would reduce the growth yield,\n",
    "resulting in low cell masses to produce more lipids once the nitrogen eventually is depleted from\n",
    "the media. However, experimental efforts have been performed on certain thraustochytrid strains\n",
    "in chemostat cultures where lipids are produced continuously. Inducing a stronger growth coupling\n",
    "for lipid production could therefore be an approach worth exploring further."
   ]
  }
 ],
 "metadata": {
  "interpreter": {
   "hash": "1ecb31993b21b02f583795c47002f7adff5f61ce16ed5da1f628dcafc1decb60"
  },
  "kernelspec": {
   "display_name": "Python 3.8.9 ('.venv': venv)",
   "language": "python",
   "name": "python3"
  },
  "language_info": {
   "codemirror_mode": {
    "name": "ipython",
    "version": 3
   },
   "file_extension": ".py",
   "mimetype": "text/x-python",
   "name": "python",
   "nbconvert_exporter": "python",
   "pygments_lexer": "ipython3",
   "version": "3.10.11"
  },
  "orig_nbformat": 4
 },
 "nbformat": 4,
 "nbformat_minor": 2
}
