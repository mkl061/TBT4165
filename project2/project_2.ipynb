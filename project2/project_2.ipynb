{
 "cells": [
  {
   "attachments": {},
   "cell_type": "markdown",
   "metadata": {},
   "source": [
    "In this project, you will be working with the protein interaction network (PIN) of *Saccharomyces cerevisiae* from the BioGRID Multi-Validated (MV) Datasets. The nodes and edges of this PIN denote proteins and their physical interactions, respectively. These interactions have been identified from large-scale protein interaction experiments such as yeast two-hybrid screenings and affinity purification with mass spectrometry. Additionally, they pass a specific set of criteria as defined [here](https://wiki.thebiogrid.org/doku.php/biogrid_mv) (BioGRID MV Datasets). See the following [link](https://wiki.thebiogrid.org/doku.php/biogrid_tab_version_2.0) to familiarize yourself with the contents of this BioGRID file. You will be analyzing the yeast PIN using *k*-core analysis, and further use the network as a scaffold for incorporating gene expression data, allowing you to perform *s*-core analysis using pairwise gene expression correlations as weights.\n",
    "\n",
    "### 1.1 Yeast protein interaction network\n",
    "\n",
    "Download the file containing all multi-validated protein-protein interactions from BioGRID found on Blackboard `BioGRID_PIN.txt`. Create a network with NetworkX using the systematic names to set source and target nodes. These corresponds to the columns named `Systematic Name Interactor A` and `Systematic Name Interactor B`. Remove all self-edges from the network."
   ]
  },
  {
   "attachments": {},
   "cell_type": "markdown",
   "metadata": {},
   "source": [
    "<span style=\"color:red\">\n",
    "\n",
    "***\n",
    "\n",
    "**NB! I have created my own module with functions that I have been using several times, both in project 1 and 2. The content of the module is printed out in the Appendix of this document. It is likely to change from project to project.**\n",
    "\n",
    "*** "
   ]
  },
  {
   "cell_type": "code",
   "execution_count": 91,
   "metadata": {},
   "outputs": [],
   "source": [
    "# Imports \n",
    "import pandas as pd\n",
    "import numpy as np\n",
    "import networkx as nx\n",
    "from pyvis.network import Network\n"
   ]
  },
  {
   "cell_type": "code",
   "execution_count": 106,
   "metadata": {},
   "outputs": [],
   "source": [
    "import sys\n",
    "import os\n",
    "path_ = sys.path[0].split(\"/\")\n",
    "os.chdir(\"/\".join(path_[:-1]))\n",
    "os.getcwd()\n",
    "from SysBio_fun import *\n",
    "os.chdir(\"/\".join(path_))"
   ]
  },
  {
   "cell_type": "code",
   "execution_count": 93,
   "metadata": {},
   "outputs": [],
   "source": [
    "# Read file:\n",
    "df = pd.read_table(\"BioGRID_PIN.txt\", sep=\"\\t\", low_memory=False)\n",
    "\n",
    "# Define source and target column:\n",
    "source = \"Official Symbol Interactor A\"\n",
    "target = \"Official Symbol Interactor B\"\n",
    "# Rename columns:\n",
    "df.rename(columns={source:\"source\", \n",
    "                   target:\"target\"},\n",
    "                   inplace=True)\n",
    "# Drop rows where column \"source\" value is identical to column \"target\" value.\n",
    "# I.e., drop self loops:\n",
    "# **NB!** This the number of rows left in the df may vary depending on which\n",
    "# column-pairs were treated as source-target. E.g. source:\"-\" and target:\"-\"\n",
    "# will be removed, even though they may have different Entrez ID.\n",
    "df = df[df[\"source\"] != df[\"target\"]]\n",
    "\n",
    "# Generate the graph:\n",
    "# **NB!** I treat the graph as multi directed, i.e. each row in the df\n",
    "# amounts to a single edge in the network!\n",
    "PIN = nx.from_pandas_edgelist(df, edge_attr=True, create_using=nx.MultiDiGraph())\n",
    "\n",
    "# Make a copy\n",
    "PIN_copy = PIN.copy() \n"
   ]
  },
  {
   "cell_type": "markdown",
   "metadata": {},
   "source": [
    "\n",
    "(i) How large is the network (i.e. number of nodes and edges), and what is the average node degree? "
   ]
  },
  {
   "cell_type": "code",
   "execution_count": 94,
   "metadata": {},
   "outputs": [
    {
     "name": "stdout",
     "output_type": "stream",
     "text": [
      "\n",
      "The number of nodes are: 20550\n",
      "The number of edges are: 245288\n",
      "The average node degree is: 23.872311435523116 \n",
      "\n"
     ]
    }
   ],
   "source": [
    "N = PIN.number_of_nodes()\n",
    "E = PIN.number_of_edges()\n",
    "mean_k = (E*2)/N  # Average node degree. Each link contributes a degree \"point\" for each node it connects. Therefore 2*E\n",
    "\n",
    "print(f\"\"\"\n",
    "The number of nodes are: {N}\n",
    "The number of edges are: {E}\n",
    "The average node degree is: {mean_k} \n",
    "\"\"\")"
   ]
  },
  {
   "attachments": {},
   "cell_type": "markdown",
   "metadata": {},
   "source": [
    "(ii) Look up *S. cerevisiae* S288C in the NCBI Taxonomy Database [here](https://www.ncbi.nlm.nih.gov/taxonomy) and take note of the taxonomy ID. Using the `Organism Interactor A` and `Organism Interactor B` edge attributes in the network, use this taxonomy ID to filter out all non-*S. cerevisiae* S288C nodes from the network. Also, remove all self-loops and isolated nodes. How many nodes and edges remain? Create a plot of its degree distribution. How would you characterize this network and its degree distribution?"
   ]
  },
  {
   "cell_type": "code",
   "execution_count": 95,
   "metadata": {},
   "outputs": [
    {
     "name": "stdout",
     "output_type": "stream",
     "text": [
      "\n",
      "The number of nodes is now 4104,\n",
      "while number of edges is 68704\n",
      "\n"
     ]
    }
   ],
   "source": [
    "PIN = PIN_copy.copy()\n",
    "\n",
    "# The taxonomic ID of S. cerevisiae S288C is: 559292\n",
    "\n",
    "# Generate a list of edges that does not fit:\n",
    "r1 = [edge for edge,tax \\\n",
    "      in nx.get_edge_attributes(PIN, \"Organism Interactor A\").items() \\\n",
    "          if tax != 559292]  # The edge information is a tuple and the key\n",
    "r2 = [edge for edge,tax \\\n",
    "      in nx.get_edge_attributes(PIN, \"Organism Interactor B\").items() \\\n",
    "        if tax != 559292]\n",
    "rem = set(r1+r2)  # set() is used to remove potential duplicates\n",
    "# Use the list to remove all edges \n",
    "PIN.remove_edges_from(rem)\n",
    "# In pandas:\n",
    "# len(df[(df[\"Organism Interactor A\"] == 559292) & (df[\"Organism Interactor B\"] == 559292)])\n",
    "\n",
    "\n",
    "# Remove nodes with a node degree of 0 (i.e. isolated nodes):\n",
    "PIN.remove_nodes_from(  # Remove nodes from list ...\n",
    "    [nodes for nodes,degree \\\n",
    "     in dict(PIN.degree()).items() if degree == 0]  # nodes with degree 0\n",
    ")\n",
    "\n",
    "N = PIN.number_of_nodes()  # New number of nodes\n",
    "E = PIN.number_of_edges()  # New number of edges\n",
    "\n",
    "print(f\"\"\"\n",
    "The number of nodes is now {N},\n",
    "while number of edges is {E}\n",
    "\"\"\")"
   ]
  },
  {
   "cell_type": "markdown",
   "metadata": {},
   "source": [
    "(iii) Compare the yeast PIN with Barabási–Albert (BA) and Erdős–Rényi (ER) networks with approximately the same number of nodes and edges using a few selected network measurements and the degree distributions. Do these models do a good job in describing the yeast PIN? Discuss why/why not."
   ]
  },
  {
   "cell_type": "code",
   "execution_count": 96,
   "metadata": {},
   "outputs": [],
   "source": [
    "l_comp = nx.Graph(PIN.subgraph(\n",
    "    sorted(\n",
    "        nx.connected_components(\n",
    "            nx.to_undirected(PIN.copy())\n",
    "            #PIN.copy().to_undirected(as_view=True)\n",
    "            ),\n",
    "        reverse=True\n",
    "    )[0]\n",
    ").copy())\n",
    "\n",
    "n = l_comp.number_of_nodes()\n",
    "e = l_comp.number_of_edges()\n",
    "\n",
    "ER = connected_ER(n, e)\n",
    "BA = connected_BA(n, round(((e*2)/n)))\n"
   ]
  },
  {
   "cell_type": "code",
   "execution_count": 97,
   "metadata": {},
   "outputs": [
    {
     "data": {
      "text/plain": [
       "networkx.classes.multidigraph.MultiDiGraph"
      ]
     },
     "execution_count": 97,
     "metadata": {},
     "output_type": "execute_result"
    }
   ],
   "source": [
    "#type(PIN.subgraph(nx.connected_components(PIN.to_undirected())[0]))\n",
    "type(\n",
    "    nx.Graph(PIN.subgraph(\n",
    "        sorted(\n",
    "            nx.connected_components(\n",
    "                nx.Graph(PIN.copy())\n",
    "            ), reverse=True)[0]\n",
    "        ))\n",
    "    )\n",
    "type(PIN)\n",
    "\n",
    "# PIN2 = nx.Graph(PIN.copy())\n",
    "# print(type(PIN2))\n",
    "# print(PIN == PIN2)\n",
    "# PIN2 = PIN2.to_undirected()\n",
    "# print(type(PIN2))\n",
    "\n",
    "\n"
   ]
  },
  {
   "cell_type": "code",
   "execution_count": 98,
   "metadata": {},
   "outputs": [
    {
     "name": "stdout",
     "output_type": "stream",
     "text": [
      "Number of nodes: 4022\n",
      "Number of edges: 16700\n",
      "Is connected:    True\n",
      "Number of nodes: 4022\n",
      "Number of edges: 16700\n",
      "Is connected:    True\n",
      "Number of nodes: 4022\n",
      "Number of edges: 32112\n",
      "Is connected:    True\n"
     ]
    }
   ],
   "source": [
    "graph_info(l_comp)\n",
    "graph_info(ER)\n",
    "graph_info(BA)"
   ]
  },
  {
   "attachments": {},
   "cell_type": "markdown",
   "metadata": {},
   "source": [
    "<span style=\"color:blue\">"
   ]
  },
  {
   "cell_type": "code",
   "execution_count": 99,
   "metadata": {},
   "outputs": [
    {
     "data": {
      "text/plain": [
       "<matplotlib.collections.PathCollection at 0x7c30ebb3e700>"
      ]
     },
     "execution_count": 99,
     "metadata": {},
     "output_type": "execute_result"
    },
    {
     "data": {
      "image/png": "[encoded data removed]",
      "text/plain": [
       "<Figure size 640x480 with 3 Axes>"
      ]
     },
     "metadata": {},
     "output_type": "display_data"
    }
   ],
   "source": [
    "\n",
    "def degree_distribution(graph):\n",
    "    \"\"\"\n",
    "    Function that returns a scatter plot of the degree\n",
    "    distribution of a graph. \n",
    "    \"\"\"\n",
    "    N = graph.number_of_nodes()  # Total number of nodes\n",
    "    y = np.array(nx.degree_histogram(graph))/N  # All occurrences of \"n\" degree, divided by total number of nodes\n",
    "    x = np.arange(len(y))[y != 0]  # x values\n",
    "    y = y[y != 0]  # Remove the values = 0 from the array\n",
    "    \n",
    "    return x, y\n",
    "\n",
    "x_l_comp, y_l_comp = degree_distribution(l_comp)\n",
    "x_ER, y_ER = degree_distribution(ER)\n",
    "x_BA, y_BA = degree_distribution(BA)\n",
    "\n",
    "\n",
    "figure, axis = plt.subplots(1, 3)\n",
    "axis[0].scatter(x_l_comp, y_l_comp)\n",
    "axis[1].scatter(x_ER, y_ER)\n",
    "axis[2].scatter(x_BA, y_BA)"
   ]
  },
  {
   "cell_type": "code",
   "execution_count": 100,
   "metadata": {},
   "outputs": [],
   "source": [
    "#plt.scatter(nx.clustering(BA).keys(), nx.clustering(BA).values())"
   ]
  },
  {
   "cell_type": "markdown",
   "metadata": {},
   "source": [
    "(iv) You will now start peeling away layers of the yeast PIN by $k$-core analysis. In your own words, describe/define *k*-core analysis, and explain how it works on a network. What network does the 1-core correspond to?"
   ]
  },
  {
   "attachments": {},
   "cell_type": "markdown",
   "metadata": {},
   "source": [
    "<span style=\"color:blue\">\n",
    "k-core analysis is a method to "
   ]
  },
  {
   "cell_type": "markdown",
   "metadata": {},
   "source": [
    "(v) Calculate the 2-core of the yeast PIN. How large is this network? Plot and characterize its degree distribution and compare it to the original yeast PIN."
   ]
  },
  {
   "cell_type": "code",
   "execution_count": 101,
   "metadata": {},
   "outputs": [
    {
     "name": "stdout",
     "output_type": "stream",
     "text": [
      "Number of nodes: 3102\n",
      "Number of edges: 15780\n",
      "Is connected:    True\n"
     ]
    },
    {
     "data": {
      "text/plain": [
       "<matplotlib.collections.PathCollection at 0x7c30ee367190>"
      ]
     },
     "execution_count": 101,
     "metadata": {},
     "output_type": "execute_result"
    },
    {
     "data": {
      "image/png": "[encoded data removed]",
      "text/plain": [
       "<Figure size 640x480 with 1 Axes>"
      ]
     },
     "metadata": {},
     "output_type": "display_data"
    }
   ],
   "source": [
    "l_comp_2_core = nx.k_core(l_comp, k=2)\n",
    "graph_info(l_comp_2_core)\n",
    "\n",
    "x, y = degree_distribution(l_comp_2_core)\n",
    "plt.scatter(x,y)"
   ]
  },
  {
   "cell_type": "markdown",
   "metadata": {},
   "source": [
    "(vi)  Find the innermost *k*-core (the last *k* before the network is empty). How many edges and nodes are there in the innermost *k*-core? What is the absolute maximal amount of edges that there could be between this number of nodes, and how does the innermost core compare to that?"
   ]
  },
  {
   "cell_type": "code",
   "execution_count": 102,
   "metadata": {},
   "outputs": [
    {
     "name": "stdout",
     "output_type": "stream",
     "text": [
      "The innermost k-core is: 18\n",
      "Number of nodes: 19\n",
      "Number of edges: 171\n",
      "Is connected:    True\n"
     ]
    }
   ],
   "source": [
    "current_k = 0\n",
    "g = l_comp.copy()\n",
    "while nx.number_of_nodes(g) > 0:\n",
    "    current_k += 1\n",
    "    g = nx.k_core(g, k=current_k)\n",
    "innermost_k_core = current_k-1\n",
    "\n",
    "print(f\"The innermost k-core is: {innermost_k_core}\")\n",
    "\n",
    "graph_info(nx.k_core(l_comp.copy(), k=innermost_k_core))"
   ]
  },
  {
   "cell_type": "markdown",
   "metadata": {},
   "source": [
    "(vii) Create a plot of the number of nodes and the number of edges in a *k*-core against *k*. How would you characterize this plot? What does it tell you?"
   ]
  },
  {
   "cell_type": "code",
   "execution_count": 103,
   "metadata": {},
   "outputs": [],
   "source": [
    "y = [nx.number_of_nodes(nx.k_core(l_comp.copy(), k=k_)) for k_ in range(1, innermost_k_core+1)]\n",
    "x = range(1, innermost_k_core+1)"
   ]
  },
  {
   "cell_type": "code",
   "execution_count": 104,
   "metadata": {},
   "outputs": [
    {
     "data": {
      "text/plain": [
       "<matplotlib.collections.PathCollection at 0x7c30e126ea60>"
      ]
     },
     "execution_count": 104,
     "metadata": {},
     "output_type": "execute_result"
    },
    {
     "data": {
      "image/png": "[encoded data removed]",
      "text/plain": [
       "<Figure size 640x480 with 1 Axes>"
      ]
     },
     "metadata": {},
     "output_type": "display_data"
    }
   ],
   "source": [
    "plt.scatter(x, y)"
   ]
  },
  {
   "cell_type": "markdown",
   "metadata": {},
   "source": [
    "(viii) Generate the second innermost $k$-core and visualize it using pyvis. Describe the network."
   ]
  },
  {
   "cell_type": "code",
   "execution_count": 108,
   "metadata": {},
   "outputs": [],
   "source": [
    "# def show_html(graph, name=\"nx\", show=True, size=\"small\"):\n",
    "#     \"\"\"\n",
    "#     Generate and display the graph through pyvis\n",
    "#     \"\"\"\n",
    "    \n",
    "#     if size == \"small\":\n",
    "#         nt = Network(\"500px\", \"500px\")\n",
    "#     else:\n",
    "#         nt = Network(\"1080px\", \"1920px\")\n",
    "        \n",
    "#     nt.from_nx(graph)\n",
    "#     if show == True:\n",
    "#         nt.show(f\"{name}.html\")\n",
    "\n",
    "s = nx.k_core(l_comp.copy(), k=innermost_k_core-1)\n",
    "show_html(s, name=f\"{innermost_k_core-1}-core_network\", show=True, size=\"large\")"
   ]
  },
  {
   "cell_type": "markdown",
   "metadata": {},
   "source": [
    "(ix)  We will now load gene expression data onto our yeast PIN. Go to this [url](https://www.ebi.ac.uk/gxa/experiments/E-GEOD-20591/Results) containing the gene expression data set from *Transcription profiling by array of yeast to investigate expression of the beta-subunit of Snf1 kinase*. For those interested, you can find detailed information about the dataset in the original publication [here](https://onlinelibrary.wiley.com/doi/full/10.1111/j.1365-2958.2010.07209.x). Download `normalized_expressions.tsv` from Blackboard and import the list of gene names, as well as corresponding expression data from 24 experimental conditions. For all pairwise gene combinations, calculate the Pearson correlation coefficients and associated p-values for the *N* genes present in the yeast PIN (both as *N* x *N* Numpy arrays). Out of the gene pairs with positive correlation values, how many of them have a significance value below 0.0001?"
   ]
  },
  {
   "cell_type": "code",
   "execution_count": 109,
   "metadata": {},
   "outputs": [
    {
     "data": {
      "text/html": [
       "<div>\n",
       "<style scoped>\n",
       "    .dataframe tbody tr th:only-of-type {\n",
       "        vertical-align: middle;\n",
       "    }\n",
       "\n",
       "    .dataframe tbody tr th {\n",
       "        vertical-align: top;\n",
       "    }\n",
       "\n",
       "    .dataframe thead th {\n",
       "        text-align: right;\n",
       "    }\n",
       "</style>\n",
       "<table border=\"1\" class=\"dataframe\">\n",
       "  <thead>\n",
       "    <tr style=\"text-align: right;\">\n",
       "      <th></th>\n",
       "      <th>Gene ID</th>\n",
       "      <th>GSM517188</th>\n",
       "      <th>GSM517189</th>\n",
       "      <th>GSM517170</th>\n",
       "      <th>GSM517171</th>\n",
       "      <th>GSM517180</th>\n",
       "      <th>GSM517186</th>\n",
       "      <th>GSM517187</th>\n",
       "      <th>GSM517183</th>\n",
       "      <th>GSM517172</th>\n",
       "      <th>...</th>\n",
       "      <th>GSM517184</th>\n",
       "      <th>GSM517168</th>\n",
       "      <th>GSM517181</th>\n",
       "      <th>GSM517185</th>\n",
       "      <th>GSM517167</th>\n",
       "      <th>GSM517169</th>\n",
       "      <th>GSM517190</th>\n",
       "      <th>GSM517173</th>\n",
       "      <th>GSM517174</th>\n",
       "      <th>GSM517175</th>\n",
       "    </tr>\n",
       "  </thead>\n",
       "  <tbody>\n",
       "    <tr>\n",
       "      <th>0</th>\n",
       "      <td>YAL001C</td>\n",
       "      <td>10.862551</td>\n",
       "      <td>10.787718</td>\n",
       "      <td>10.609314</td>\n",
       "      <td>10.533807</td>\n",
       "      <td>10.683814</td>\n",
       "      <td>10.884063</td>\n",
       "      <td>10.991316</td>\n",
       "      <td>10.793569</td>\n",
       "      <td>10.641122</td>\n",
       "      <td>...</td>\n",
       "      <td>10.776250</td>\n",
       "      <td>10.829294</td>\n",
       "      <td>10.706164</td>\n",
       "      <td>11.036464</td>\n",
       "      <td>10.876691</td>\n",
       "      <td>10.778201</td>\n",
       "      <td>10.860265</td>\n",
       "      <td>10.581020</td>\n",
       "      <td>10.698511</td>\n",
       "      <td>10.561507</td>\n",
       "    </tr>\n",
       "    <tr>\n",
       "      <th>1</th>\n",
       "      <td>YAL002W</td>\n",
       "      <td>10.318229</td>\n",
       "      <td>10.376402</td>\n",
       "      <td>10.307895</td>\n",
       "      <td>10.231124</td>\n",
       "      <td>10.217388</td>\n",
       "      <td>10.289048</td>\n",
       "      <td>10.571356</td>\n",
       "      <td>10.192751</td>\n",
       "      <td>10.307293</td>\n",
       "      <td>...</td>\n",
       "      <td>10.166869</td>\n",
       "      <td>10.360606</td>\n",
       "      <td>10.282979</td>\n",
       "      <td>10.015871</td>\n",
       "      <td>10.210560</td>\n",
       "      <td>10.433530</td>\n",
       "      <td>10.334844</td>\n",
       "      <td>10.246341</td>\n",
       "      <td>10.279370</td>\n",
       "      <td>10.347147</td>\n",
       "    </tr>\n",
       "    <tr>\n",
       "      <th>2</th>\n",
       "      <td>YAL003W</td>\n",
       "      <td>14.116945</td>\n",
       "      <td>14.110254</td>\n",
       "      <td>14.038039</td>\n",
       "      <td>14.042464</td>\n",
       "      <td>14.116978</td>\n",
       "      <td>14.100915</td>\n",
       "      <td>14.101845</td>\n",
       "      <td>14.105961</td>\n",
       "      <td>13.999617</td>\n",
       "      <td>...</td>\n",
       "      <td>14.085988</td>\n",
       "      <td>14.127210</td>\n",
       "      <td>14.048146</td>\n",
       "      <td>14.031750</td>\n",
       "      <td>14.115299</td>\n",
       "      <td>14.085665</td>\n",
       "      <td>14.117709</td>\n",
       "      <td>13.981556</td>\n",
       "      <td>14.010271</td>\n",
       "      <td>13.993024</td>\n",
       "    </tr>\n",
       "    <tr>\n",
       "      <th>3</th>\n",
       "      <td>YAL005C</td>\n",
       "      <td>14.372108</td>\n",
       "      <td>14.419899</td>\n",
       "      <td>14.327958</td>\n",
       "      <td>14.283262</td>\n",
       "      <td>14.436713</td>\n",
       "      <td>14.418395</td>\n",
       "      <td>14.354286</td>\n",
       "      <td>14.369767</td>\n",
       "      <td>14.285516</td>\n",
       "      <td>...</td>\n",
       "      <td>14.243826</td>\n",
       "      <td>14.349704</td>\n",
       "      <td>14.361417</td>\n",
       "      <td>14.238842</td>\n",
       "      <td>14.298123</td>\n",
       "      <td>14.325895</td>\n",
       "      <td>14.371525</td>\n",
       "      <td>14.310817</td>\n",
       "      <td>14.346674</td>\n",
       "      <td>14.345590</td>\n",
       "    </tr>\n",
       "    <tr>\n",
       "      <th>4</th>\n",
       "      <td>YAL007C</td>\n",
       "      <td>11.717200</td>\n",
       "      <td>11.861313</td>\n",
       "      <td>11.594489</td>\n",
       "      <td>11.750768</td>\n",
       "      <td>11.574141</td>\n",
       "      <td>11.824636</td>\n",
       "      <td>11.856330</td>\n",
       "      <td>11.650583</td>\n",
       "      <td>11.548949</td>\n",
       "      <td>...</td>\n",
       "      <td>11.612014</td>\n",
       "      <td>11.475502</td>\n",
       "      <td>11.608367</td>\n",
       "      <td>11.670285</td>\n",
       "      <td>11.479741</td>\n",
       "      <td>11.490664</td>\n",
       "      <td>11.975316</td>\n",
       "      <td>11.606178</td>\n",
       "      <td>11.605336</td>\n",
       "      <td>11.535457</td>\n",
       "    </tr>\n",
       "    <tr>\n",
       "      <th>5</th>\n",
       "      <td>YAL008W</td>\n",
       "      <td>11.275044</td>\n",
       "      <td>11.248086</td>\n",
       "      <td>11.370819</td>\n",
       "      <td>11.108830</td>\n",
       "      <td>11.510864</td>\n",
       "      <td>11.330115</td>\n",
       "      <td>11.461117</td>\n",
       "      <td>11.363152</td>\n",
       "      <td>11.246455</td>\n",
       "      <td>...</td>\n",
       "      <td>11.431879</td>\n",
       "      <td>11.554264</td>\n",
       "      <td>11.363908</td>\n",
       "      <td>11.351615</td>\n",
       "      <td>11.426774</td>\n",
       "      <td>11.533108</td>\n",
       "      <td>11.299099</td>\n",
       "      <td>11.358341</td>\n",
       "      <td>11.310492</td>\n",
       "      <td>11.474645</td>\n",
       "    </tr>\n",
       "    <tr>\n",
       "      <th>6</th>\n",
       "      <td>YAL009W</td>\n",
       "      <td>9.971481</td>\n",
       "      <td>9.935119</td>\n",
       "      <td>9.988509</td>\n",
       "      <td>9.993210</td>\n",
       "      <td>9.915578</td>\n",
       "      <td>9.936548</td>\n",
       "      <td>10.152794</td>\n",
       "      <td>9.824603</td>\n",
       "      <td>10.018877</td>\n",
       "      <td>...</td>\n",
       "      <td>9.809905</td>\n",
       "      <td>9.740123</td>\n",
       "      <td>9.854044</td>\n",
       "      <td>10.033609</td>\n",
       "      <td>9.888328</td>\n",
       "      <td>9.792665</td>\n",
       "      <td>10.048278</td>\n",
       "      <td>9.966829</td>\n",
       "      <td>10.066921</td>\n",
       "      <td>9.871540</td>\n",
       "    </tr>\n",
       "    <tr>\n",
       "      <th>7</th>\n",
       "      <td>YAL010C</td>\n",
       "      <td>9.788592</td>\n",
       "      <td>9.882031</td>\n",
       "      <td>9.969160</td>\n",
       "      <td>9.935823</td>\n",
       "      <td>9.869899</td>\n",
       "      <td>9.830950</td>\n",
       "      <td>10.069362</td>\n",
       "      <td>9.904191</td>\n",
       "      <td>9.780692</td>\n",
       "      <td>...</td>\n",
       "      <td>9.966418</td>\n",
       "      <td>9.828681</td>\n",
       "      <td>9.752460</td>\n",
       "      <td>10.116446</td>\n",
       "      <td>9.899894</td>\n",
       "      <td>9.906184</td>\n",
       "      <td>9.823420</td>\n",
       "      <td>9.742537</td>\n",
       "      <td>9.947832</td>\n",
       "      <td>9.807137</td>\n",
       "    </tr>\n",
       "    <tr>\n",
       "      <th>8</th>\n",
       "      <td>YAL011W</td>\n",
       "      <td>9.434274</td>\n",
       "      <td>9.396159</td>\n",
       "      <td>9.500599</td>\n",
       "      <td>9.525675</td>\n",
       "      <td>9.558400</td>\n",
       "      <td>9.427803</td>\n",
       "      <td>9.519610</td>\n",
       "      <td>9.578430</td>\n",
       "      <td>9.450371</td>\n",
       "      <td>...</td>\n",
       "      <td>9.538738</td>\n",
       "      <td>9.512650</td>\n",
       "      <td>9.614558</td>\n",
       "      <td>9.257099</td>\n",
       "      <td>9.566624</td>\n",
       "      <td>9.492080</td>\n",
       "      <td>9.458073</td>\n",
       "      <td>9.336601</td>\n",
       "      <td>9.489274</td>\n",
       "      <td>9.422245</td>\n",
       "    </tr>\n",
       "    <tr>\n",
       "      <th>9</th>\n",
       "      <td>YAL012W</td>\n",
       "      <td>13.515144</td>\n",
       "      <td>13.565094</td>\n",
       "      <td>13.187785</td>\n",
       "      <td>13.172306</td>\n",
       "      <td>13.216801</td>\n",
       "      <td>13.380632</td>\n",
       "      <td>13.419438</td>\n",
       "      <td>13.374047</td>\n",
       "      <td>13.050084</td>\n",
       "      <td>...</td>\n",
       "      <td>13.449695</td>\n",
       "      <td>13.217452</td>\n",
       "      <td>13.372705</td>\n",
       "      <td>13.160807</td>\n",
       "      <td>13.213176</td>\n",
       "      <td>13.258713</td>\n",
       "      <td>13.537055</td>\n",
       "      <td>13.238104</td>\n",
       "      <td>13.163476</td>\n",
       "      <td>13.089239</td>\n",
       "    </tr>\n",
       "  </tbody>\n",
       "</table>\n",
       "<p>10 rows × 25 columns</p>\n",
       "</div>"
      ],
      "text/plain": [
       "   Gene ID  GSM517188  GSM517189  GSM517170  GSM517171  GSM517180  GSM517186  \\\n",
       "0  YAL001C  10.862551  10.787718  10.609314  10.533807  10.683814  10.884063   \n",
       "1  YAL002W  10.318229  10.376402  10.307895  10.231124  10.217388  10.289048   \n",
       "2  YAL003W  14.116945  14.110254  14.038039  14.042464  14.116978  14.100915   \n",
       "3  YAL005C  14.372108  14.419899  14.327958  14.283262  14.436713  14.418395   \n",
       "4  YAL007C  11.717200  11.861313  11.594489  11.750768  11.574141  11.824636   \n",
       "5  YAL008W  11.275044  11.248086  11.370819  11.108830  11.510864  11.330115   \n",
       "6  YAL009W   9.971481   9.935119   9.988509   9.993210   9.915578   9.936548   \n",
       "7  YAL010C   9.788592   9.882031   9.969160   9.935823   9.869899   9.830950   \n",
       "8  YAL011W   9.434274   9.396159   9.500599   9.525675   9.558400   9.427803   \n",
       "9  YAL012W  13.515144  13.565094  13.187785  13.172306  13.216801  13.380632   \n",
       "\n",
       "   GSM517187  GSM517183  GSM517172  ...  GSM517184  GSM517168  GSM517181  \\\n",
       "0  10.991316  10.793569  10.641122  ...  10.776250  10.829294  10.706164   \n",
       "1  10.571356  10.192751  10.307293  ...  10.166869  10.360606  10.282979   \n",
       "2  14.101845  14.105961  13.999617  ...  14.085988  14.127210  14.048146   \n",
       "3  14.354286  14.369767  14.285516  ...  14.243826  14.349704  14.361417   \n",
       "4  11.856330  11.650583  11.548949  ...  11.612014  11.475502  11.608367   \n",
       "5  11.461117  11.363152  11.246455  ...  11.431879  11.554264  11.363908   \n",
       "6  10.152794   9.824603  10.018877  ...   9.809905   9.740123   9.854044   \n",
       "7  10.069362   9.904191   9.780692  ...   9.966418   9.828681   9.752460   \n",
       "8   9.519610   9.578430   9.450371  ...   9.538738   9.512650   9.614558   \n",
       "9  13.419438  13.374047  13.050084  ...  13.449695  13.217452  13.372705   \n",
       "\n",
       "   GSM517185  GSM517167  GSM517169  GSM517190  GSM517173  GSM517174  GSM517175  \n",
       "0  11.036464  10.876691  10.778201  10.860265  10.581020  10.698511  10.561507  \n",
       "1  10.015871  10.210560  10.433530  10.334844  10.246341  10.279370  10.347147  \n",
       "2  14.031750  14.115299  14.085665  14.117709  13.981556  14.010271  13.993024  \n",
       "3  14.238842  14.298123  14.325895  14.371525  14.310817  14.346674  14.345590  \n",
       "4  11.670285  11.479741  11.490664  11.975316  11.606178  11.605336  11.535457  \n",
       "5  11.351615  11.426774  11.533108  11.299099  11.358341  11.310492  11.474645  \n",
       "6  10.033609   9.888328   9.792665  10.048278   9.966829  10.066921   9.871540  \n",
       "7  10.116446   9.899894   9.906184   9.823420   9.742537   9.947832   9.807137  \n",
       "8   9.257099   9.566624   9.492080   9.458073   9.336601   9.489274   9.422245  \n",
       "9  13.160807  13.213176  13.258713  13.537055  13.238104  13.163476  13.089239  \n",
       "\n",
       "[10 rows x 25 columns]"
      ]
     },
     "execution_count": 109,
     "metadata": {},
     "output_type": "execute_result"
    }
   ],
   "source": [
    "norm_ex = pd.read_table(\"normalized_expressions.tsv\", sep=\"\\t\")\n",
    "norm_ex.head(10)"
   ]
  },
  {
   "cell_type": "markdown",
   "metadata": {},
   "source": [
    "(x) Download `s_core.py`. This is similar to the NetworkX function `k_core`, but uses node strength instead of node degree. Strength is defined as the sum of the weights of all the links attached to a node (i.e. Person correlations). With negative weights, the absolute values of the weights are used to calculate the strength. In this case, however, we are only looking at positively correlated nodes. Do you think it would make sense to include negative correlations in this particular case? Discuss."
   ]
  },
  {
   "cell_type": "markdown",
   "metadata": {},
   "source": [
    "(xi) Calculate the *s*-core with *s* = 2.5, 3, 3.5, and 4, and characterize their degree distributions. Discuss how the distribution changes for increasing values of *s*."
   ]
  },
  {
   "cell_type": "code",
   "execution_count": null,
   "metadata": {},
   "outputs": [],
   "source": [
    "from s_core import *"
   ]
  },
  {
   "cell_type": "markdown",
   "metadata": {},
   "source": [
    "(xii) Find an integer value for *s* that gives as good match as possible relative to the second innermost *k*-core in terms of number of distinct modules and number of nodes. Visualize this *s*-core with pyvis and describe the network."
   ]
  },
  {
   "cell_type": "code",
   "execution_count": null,
   "metadata": {},
   "outputs": [],
   "source": []
  },
  {
   "cell_type": "markdown",
   "metadata": {},
   "source": [
    "(xiii) Using the full yeast PIN network (network from (ii)), extract the nodes that are either part of the second innermost *k*-core, the *s*-core in (xii), or part of both cores. How many nodes and edges are there in this new network? Create a visualization of this subnetwork using pyvis, and color the nodes according to the following classifications:\n",
    "- Red if it was only found in the second innermost *k*-core.\n",
    "- Green if it was only found in the *s*-core.\n",
    "- Blue if it was found in both.\n",
    "\n",
    "Describe the network and discuss what you observe. Is it a single connected component? What do the differences between the *s*- and *k*-cores tell you?"
   ]
  },
  {
   "cell_type": "markdown",
   "metadata": {},
   "source": []
  },
  {
   "cell_type": "markdown",
   "metadata": {},
   "source": []
  },
  {
   "cell_type": "code",
   "execution_count": 115,
   "metadata": {},
   "outputs": [
    {
     "name": "stdout",
     "output_type": "stream",
     "text": [
      "import networkx as nx\n",
      "import matplotlib.pyplot as plt\n",
      "import numpy as np\n",
      "from pyvis.network import Network\n",
      "\n",
      "#############################################\n",
      "#   This is a module created to hold        #\n",
      "#   all custom functions used in multiple   #\n",
      "#   project throughout the TBT4165 course   #\n",
      "#############################################\n",
      "\n",
      "def connected_ER(N, E):\n",
      "    \"\"\"\n",
      "    N : int, Number of nodes\n",
      "    E : int, Number of edges \n",
      "    \"\"\"\n",
      "    g = nx.gnm_random_graph(N, E)\n",
      "    while nx.is_connected(g) == False:\n",
      "        g = nx.gnm_random_graph(N, E)\n",
      "    return g\n",
      "\n",
      "\n",
      "def connected_BA(N, m):\n",
      "    \"\"\"\n",
      "    N : int, Number of nodes\n",
      "    m : int, Number of edges to attach from a new node to existing nodes\n",
      "    \"\"\"\n",
      "    g = nx.barabasi_albert_graph(n=N, m=m)\n",
      "    while nx.is_connected(g) == False:\n",
      "        g = nx.barabasi_albert_graph(n=N, m=m)\n",
      "    return g\n",
      "\n",
      "\n",
      "def get_largest_component(g, is_undirected=True):\n",
      "    if is_undirected:\n",
      "        l_comp = g.subgraph(\n",
      "            sorted(\n",
      "                nx.connected_components(\n",
      "                    nx.to_undirected(g.copy())\n",
      "                    ),\n",
      "                reverse=True\n",
      "            )[0]\n",
      "        ).copy()\n",
      "    else:\n",
      "        l_comp = g.subgraph(\n",
      "            sorted(\n",
      "                nx.connected_components(g),\n",
      "                reverse=True\n",
      "            )[0]\n",
      "        ).copy()\n",
      "    return l_comp\n",
      "\n",
      "\n",
      "def graph_info(g):\n",
      "    print(f\"\\nNumber of nodes: {g.number_of_nodes()}\")\n",
      "    print(f\"Number of edges: {g.number_of_edges()}\")\n",
      "    try:\n",
      "        print(f\"Is connected:    {nx.is_connected(g)}\")\n",
      "    except:\n",
      "        print(\"\"\"\\\n",
      "The graph is not undirected. Therefore .is_connected() does not work.\n",
      "        \"\"\")\n",
      "\n",
      "\n",
      "def show_html(graph, name=\"nx\", show=True, size=\"small\"):\n",
      "    \"\"\"\n",
      "    Generate and display the graph through pyvis\n",
      "    \"\"\"\n",
      "    \n",
      "    if size == \"small\":\n",
      "        nt = Network(\"500px\", \"500px\")\n",
      "    else:\n",
      "        nt = Network(\"1080px\", \"1920px\")\n",
      "        \n",
      "    nt.from_nx(graph)\n",
      "    if show == True:\n",
      "        nt.show(f\"{name}.html\")\n",
      "\n",
      "\n",
      "\n",
      "def nice_plot(title, xlab, ylab, show=True):\n",
      "    \"\"\"\n",
      "    Function to generate title and axis labels to a plot.\n",
      "    The argument \"show\" is by default True. \n",
      "    \"\"\"\n",
      "    plt.title(title)\n",
      "    plt.xlabel(xlab)\n",
      "    plt.ylabel(ylab)\n",
      "    if (show == True):\n",
      "        plt.show()\n",
      "\n",
      "\n",
      "def plot_degree_distribution(graph):\n",
      "    \"\"\"\n",
      "    Function that returns a scatter plot of the degree\n",
      "    distribution of a graph. \n",
      "    \"\"\"\n",
      "    N = graph.number_of_nodes()  # Total number of nodes\n",
      "    y = np.array(nx.degree_histogram(graph))/N  # All occurrences of \"n\" degree, divided by total number of nodes\n",
      "    x = np.arange(len(y))[y != 0]  # x values\n",
      "    y = y[y != 0]  # Remove the values = 0 from the array\n",
      "    \n",
      "    return [x, y]\n",
      "    #return plt.scatter(x,y)\n"
     ]
    }
   ],
   "source": [
    "file_path = \"/\".join(sys.path[0].split(\"/\")[:-1])\n",
    "\n",
    "with open(file_path+\"/SysBio_fun.py\") as file:\n",
    "    print(file.read())"
   ]
  }
 ],
 "metadata": {
  "kernelspec": {
   "display_name": "Python 3",
   "language": "python",
   "name": "python3"
  },
  "language_info": {
   "codemirror_mode": {
    "name": "ipython",
    "version": 3
   },
   "file_extension": ".py",
   "mimetype": "text/x-python",
   "name": "python",
   "nbconvert_exporter": "python",
   "pygments_lexer": "ipython3",
   "version": "3.9.2"
  },
  "orig_nbformat": 4,
  "vscode": {
   "interpreter": {
    "hash": "916dbcbb3f70747c44a77c7bcd40155683ae19c65e1c03b4aa3499c5328201f1"
   }
  }
 },
 "nbformat": 4,
 "nbformat_minor": 2
}
