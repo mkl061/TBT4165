{
 "cells": [
  {
   "attachments": {},
   "cell_type": "markdown",
   "metadata": {},
   "source": [
    "In this project, you will be working with the protein interaction network (PIN) of *Saccharomyces cerevisiae* from the BioGRID Multi-Validated (MV) Datasets. The nodes and edges of this PIN denote proteins and their physical interactions, respectively. These interactions have been identified from large-scale protein interaction experiments such as yeast two-hybrid screenings and affinity purification with mass spectrometry. Additionally, they pass a specific set of criteria as defined [here](https://wiki.thebiogrid.org/doku.php/biogrid_mv) (BioGRID MV Datasets). See the following [link](https://wiki.thebiogrid.org/doku.php/biogrid_tab_version_2.0) to familiarize yourself with the contents of this BioGRID file. You will be analyzing the yeast PIN using *k*-core analysis, and further use the network as a scaffold for incorporating gene expression data, allowing you to perform *s*-core analysis using pairwise gene expression correlations as weights.\n",
    "\n",
    "### 1.1 Yeast protein interaction network\n",
    "\n",
    "Download the file containing all multi-validated protein-protein interactions from BioGRID found on Blackboard `BioGRID_PIN.txt`. Create a network with NetworkX using the systematic names to set source and target nodes. These corresponds to the columns named `Systematic Name Interactor A` and `Systematic Name Interactor B`. Remove all self-edges from the network."
   ]
  },
  {
   "cell_type": "code",
   "execution_count": 1,
   "metadata": {},
   "outputs": [],
   "source": [
    "# Imports \n",
    "import pandas as pd\n",
    "import numpy as np\n",
    "import networkx as nx\n",
    "from pyvis.network import Network\n"
   ]
  },
  {
   "cell_type": "code",
   "execution_count": 32,
   "metadata": {},
   "outputs": [],
   "source": [
    "import sys\n",
    "import os\n",
    "path_ = sys.path[0].split(\"/\")\n",
    "os.chdir(\"/\".join(path_[:-1]))\n",
    "os.getcwd()\n",
    "from SysBio_fun import *\n",
    "os.chdir(\"/\".join(path_))"
   ]
  },
  {
   "cell_type": "code",
   "execution_count": 3,
   "metadata": {},
   "outputs": [],
   "source": [
    "# Read file:\n",
    "df = pd.read_table(\"BioGRID_PIN.txt\", sep=\"\\t\", low_memory=False)\n",
    "\n",
    "# Define source and target column:\n",
    "source = \"Official Symbol Interactor A\"\n",
    "target = \"Official Symbol Interactor B\"\n",
    "# Rename columns:\n",
    "df.rename(columns={source:\"source\", \n",
    "                   target:\"target\"},\n",
    "                   inplace=True)\n",
    "# Drop rows where column \"source\" value is identical to column \"target\" value.\n",
    "# I.e., drop self loops:\n",
    "# **NB!** This the number of rows left in the df may vary depending on which\n",
    "# column-pairs were treated as source-target. E.g. source:\"-\" and target:\"-\"\n",
    "# will be removed, even though they may have different Entrez ID.\n",
    "df = df[df[\"source\"] != df[\"target\"]]\n",
    "\n",
    "# Generate the graph:\n",
    "# **NB!** I treat the graph as multi directed, i.e. each row in the df\n",
    "# amounts to a single edge in the network!\n",
    "PIN = nx.from_pandas_edgelist(df, edge_attr=True, create_using=nx.MultiDiGraph())\n",
    "\n",
    "# Make a copy\n",
    "PIN_copy = PIN.copy() \n"
   ]
  },
  {
   "cell_type": "markdown",
   "metadata": {},
   "source": [
    "\n",
    "(i) How large is the network (i.e. number of nodes and edges), and what is the average node degree? "
   ]
  },
  {
   "cell_type": "code",
   "execution_count": 4,
   "metadata": {},
   "outputs": [
    {
     "name": "stdout",
     "output_type": "stream",
     "text": [
      "\n",
      "The number of nodes are: 20550\n",
      "The number of edges are: 245288\n",
      "The average node degree is: 23.872311435523116 \n",
      "\n"
     ]
    }
   ],
   "source": [
    "N = PIN.number_of_nodes()\n",
    "E = PIN.number_of_edges()\n",
    "mean_k = (E*2)/N  # Average node degree. Each link contributes a degree \"point\" for each node it connects. Therefore 2*E\n",
    "\n",
    "print(f\"\"\"\n",
    "The number of nodes are: {N}\n",
    "The number of edges are: {E}\n",
    "The average node degree is: {mean_k} \n",
    "\"\"\")"
   ]
  },
  {
   "attachments": {},
   "cell_type": "markdown",
   "metadata": {},
   "source": [
    "(ii) Look up *S. cerevisiae* S288C in the NCBI Taxonomy Database [here](https://www.ncbi.nlm.nih.gov/taxonomy) and take note of the taxonomy ID. Using the `Organism Interactor A` and `Organism Interactor B` edge attributes in the network, use this taxonomy ID to filter out all non-*S. cerevisiae* S288C nodes from the network. Also, remove all self-loops and isolated nodes. How many nodes and edges remain? Create a plot of its degree distribution. How would you characterize this network and its degree distribution?"
   ]
  },
  {
   "cell_type": "code",
   "execution_count": 5,
   "metadata": {},
   "outputs": [
    {
     "name": "stdout",
     "output_type": "stream",
     "text": [
      "\n",
      "The number of nodes is now 4104,\n",
      "while number of edges is 68704\n",
      "\n"
     ]
    }
   ],
   "source": [
    "PIN = PIN_copy.copy()\n",
    "\n",
    "# The taxonomic ID of S. cerevisiae S288C is: 559292\n",
    "\n",
    "# Generate a list of edges that does not fit:\n",
    "r1 = [edge for edge,tax \\\n",
    "      in nx.get_edge_attributes(PIN, \"Organism Interactor A\").items() \\\n",
    "          if tax != 559292]  # The edge information is a tuple and the key\n",
    "r2 = [edge for edge,tax \\\n",
    "      in nx.get_edge_attributes(PIN, \"Organism Interactor B\").items() \\\n",
    "        if tax != 559292]\n",
    "rem = set(r1+r2)  # set() is used to remove potential duplicates\n",
    "# Use the list to remove all edges \n",
    "PIN.remove_edges_from(rem)\n",
    "# In pandas:\n",
    "# len(df[(df[\"Organism Interactor A\"] == 559292) & (df[\"Organism Interactor B\"] == 559292)])\n",
    "\n",
    "\n",
    "# Remove nodes with a node degree of 0 (i.e. isolated nodes):\n",
    "PIN.remove_nodes_from(  # Remove nodes from list ...\n",
    "    [nodes for nodes,degree \\\n",
    "     in dict(PIN.degree()).items() if degree == 0]  # nodes with degree 0\n",
    ")\n",
    "\n",
    "N = PIN.number_of_nodes()  # New number of nodes\n",
    "E = PIN.number_of_edges()  # New number of edges\n",
    "\n",
    "print(f\"\"\"\n",
    "The number of nodes is now {N},\n",
    "while number of edges is {E}\n",
    "\"\"\")"
   ]
  },
  {
   "cell_type": "markdown",
   "metadata": {},
   "source": [
    "(iii) Compare the yeast PIN with Barabási–Albert (BA) and Erdős–Rényi (ER) networks with approximately the same number of nodes and edges using a few selected network measurements and the degree distributions. Do these models do a good job in describing the yeast PIN? Discuss why/why not."
   ]
  },
  {
   "cell_type": "code",
   "execution_count": 70,
   "metadata": {},
   "outputs": [],
   "source": [
    "l_comp = nx.Graph(PIN.subgraph(\n",
    "    sorted(\n",
    "        nx.connected_components(\n",
    "            nx.to_undirected(PIN.copy())\n",
    "            #PIN.copy().to_undirected(as_view=True)\n",
    "            ),\n",
    "        reverse=True\n",
    "    )[0]\n",
    ").copy())\n",
    "\n",
    "n = l_comp.number_of_nodes()\n",
    "e = l_comp.number_of_edges()\n",
    "\n",
    "ER = connected_ER(n, e)\n",
    "BA = connected_BA(n, round(((e*2)/n)))\n"
   ]
  },
  {
   "cell_type": "code",
   "execution_count": 69,
   "metadata": {},
   "outputs": [
    {
     "data": {
      "text/plain": [
       "networkx.classes.multidigraph.MultiDiGraph"
      ]
     },
     "execution_count": 69,
     "metadata": {},
     "output_type": "execute_result"
    }
   ],
   "source": [
    "#type(PIN.subgraph(nx.connected_components(PIN.to_undirected())[0]))\n",
    "type(\n",
    "    nx.Graph(PIN.subgraph(\n",
    "        sorted(\n",
    "            nx.connected_components(\n",
    "                nx.Graph(PIN.copy())\n",
    "            ), reverse=True)[0]\n",
    "        ))\n",
    "    )\n",
    "type(PIN)\n",
    "\n",
    "# PIN2 = nx.Graph(PIN.copy())\n",
    "# print(type(PIN2))\n",
    "# print(PIN == PIN2)\n",
    "# PIN2 = PIN2.to_undirected()\n",
    "# print(type(PIN2))\n",
    "\n",
    "\n"
   ]
  },
  {
   "cell_type": "code",
   "execution_count": 71,
   "metadata": {},
   "outputs": [
    {
     "name": "stdout",
     "output_type": "stream",
     "text": [
      "Number of nodes: 4022\n",
      "Number of edges: 16700\n",
      "Is connected:    True\n",
      "Number of nodes: 4022\n",
      "Number of edges: 16700\n",
      "Is connected:    True\n",
      "Number of nodes: 4022\n",
      "Number of edges: 32112\n",
      "Is connected:    True\n"
     ]
    }
   ],
   "source": [
    "graph_info(l_comp)\n",
    "graph_info(ER)\n",
    "graph_info(BA)"
   ]
  },
  {
   "attachments": {},
   "cell_type": "markdown",
   "metadata": {},
   "source": [
    "<span style=\"color:blue\">"
   ]
  },
  {
   "cell_type": "code",
   "execution_count": 72,
   "metadata": {},
   "outputs": [
    {
     "data": {
      "text/plain": [
       "<matplotlib.collections.PathCollection at 0x7c30c2af8190>"
      ]
     },
     "execution_count": 72,
     "metadata": {},
     "output_type": "execute_result"
    },
    {
     "data": {
      "image/png": "[encoded data removed]",
      "text/plain": [
       "<Figure size 640x480 with 3 Axes>"
      ]
     },
     "metadata": {},
     "output_type": "display_data"
    }
   ],
   "source": [
    "\n",
    "def degree_distribution(graph):\n",
    "    \"\"\"\n",
    "    Function that returns a scatter plot of the degree\n",
    "    distribution of a graph. \n",
    "    \"\"\"\n",
    "    N = graph.number_of_nodes()  # Total number of nodes\n",
    "    y = np.array(nx.degree_histogram(graph))/N  # All occurrences of \"n\" degree, divided by total number of nodes\n",
    "    x = np.arange(len(y))[y != 0]  # x values\n",
    "    y = y[y != 0]  # Remove the values = 0 from the array\n",
    "    \n",
    "    return x, y\n",
    "\n",
    "x_l_comp, y_l_comp = degree_distribution(l_comp)\n",
    "x_ER, y_ER = degree_distribution(ER)\n",
    "x_BA, y_BA = degree_distribution(BA)\n",
    "\n",
    "\n",
    "figure, axis = plt.subplots(1, 3)\n",
    "axis[0].scatter(x_l_comp, y_l_comp)\n",
    "axis[1].scatter(x_ER, y_ER)\n",
    "axis[2].scatter(x_BA, y_BA)"
   ]
  },
  {
   "cell_type": "code",
   "execution_count": 38,
   "metadata": {},
   "outputs": [],
   "source": [
    "#plt.scatter(nx.clustering(BA).keys(), nx.clustering(BA).values())"
   ]
  },
  {
   "cell_type": "markdown",
   "metadata": {},
   "source": [
    "(iv) You will now start peeling away layers of the yeast PIN by $k$-core analysis. In your own words, describe/define *k*-core analysis, and explain how it works on a network. What network does the 1-core correspond to?"
   ]
  },
  {
   "attachments": {},
   "cell_type": "markdown",
   "metadata": {},
   "source": [
    "<span style=\"color:blue\">\n",
    "k-core analysis is a method to "
   ]
  },
  {
   "cell_type": "markdown",
   "metadata": {},
   "source": [
    "(v) Calculate the 2-core of the yeast PIN. How large is this network? Plot and characterize its degree distribution and compare it to the original yeast PIN."
   ]
  },
  {
   "cell_type": "code",
   "execution_count": 76,
   "metadata": {},
   "outputs": [
    {
     "name": "stdout",
     "output_type": "stream",
     "text": [
      "Number of nodes: 3102\n",
      "Number of edges: 15780\n",
      "Is connected:    True\n"
     ]
    },
    {
     "data": {
      "text/plain": [
       "<matplotlib.collections.PathCollection at 0x7c30e029cee0>"
      ]
     },
     "execution_count": 76,
     "metadata": {},
     "output_type": "execute_result"
    },
    {
     "data": {
      "image/png": "[encoded data removed]",
      "text/plain": [
       "<Figure size 640x480 with 1 Axes>"
      ]
     },
     "metadata": {},
     "output_type": "display_data"
    }
   ],
   "source": [
    "l_comp_2_core = nx.k_core(l_comp, k=2)\n",
    "graph_info(l_comp_2_core)\n",
    "\n",
    "x, y = degree_distribution(l_comp_2_core)\n",
    "plt.scatter(x,y)"
   ]
  },
  {
   "cell_type": "markdown",
   "metadata": {},
   "source": [
    "(vi)  Find the innermost *k*-core (the last *k* before the network is empty). How many edges and nodes are there in the innermost *k*-core? What is the absolute maximal amount of edges that there could be between this number of nodes, and how does the innermost core compare to that?"
   ]
  },
  {
   "cell_type": "code",
   "execution_count": 86,
   "metadata": {},
   "outputs": [
    {
     "name": "stdout",
     "output_type": "stream",
     "text": [
      "The innermost k-core is: 18\n",
      "Number of nodes: 19\n",
      "Number of edges: 171\n",
      "Is connected:    True\n"
     ]
    }
   ],
   "source": [
    "current_k = 0\n",
    "g = l_comp.copy()\n",
    "while nx.number_of_nodes(g) > 0:\n",
    "    current_k += 1\n",
    "    g = nx.k_core(g, k=current_k)\n",
    "innermost_k_core = current_k-1\n",
    "\n",
    "print(f\"The innermost k-core is: {innermost_k_core}\")\n",
    "\n",
    "graph_info(nx.k_core(l_comp.copy(), k=innermost_k_core))"
   ]
  },
  {
   "cell_type": "markdown",
   "metadata": {},
   "source": [
    "(vii) Create a plot of the number of nodes and the number of edges in a *k*-core against *k*. How would you characterize this plot? What does it tell you?"
   ]
  },
  {
   "cell_type": "code",
   "execution_count": 87,
   "metadata": {},
   "outputs": [],
   "source": [
    "y = [nx.number_of_nodes(nx.k_core(l_comp.copy(), k=k_)) for k_ in range(1, innermost_k_core+1)]\n",
    "x = range(1, innermost_k_core+1)"
   ]
  },
  {
   "cell_type": "code",
   "execution_count": 88,
   "metadata": {},
   "outputs": [
    {
     "data": {
      "text/plain": [
       "<matplotlib.collections.PathCollection at 0x7c30b9f8e340>"
      ]
     },
     "execution_count": 88,
     "metadata": {},
     "output_type": "execute_result"
    },
    {
     "data": {
      "image/png": "[encoded data removed]",
      "text/plain": [
       "<Figure size 640x480 with 1 Axes>"
      ]
     },
     "metadata": {},
     "output_type": "display_data"
    }
   ],
   "source": [
    "plt.scatter(x, y)"
   ]
  },
  {
   "cell_type": "markdown",
   "metadata": {},
   "source": [
    "(viii) Generate the second innermost $k$-core and visualize it using pyvis. Describe the network."
   ]
  },
  {
   "cell_type": "code",
   "execution_count": null,
   "metadata": {},
   "outputs": [],
   "source": [
    "s = nx.k_core(l_comp.copy(), k=innermost_k_core-1)"
   ]
  },
  {
   "cell_type": "markdown",
   "metadata": {},
   "source": [
    "(ix)  We will now load gene expression data onto our yeast PIN. Go to this [url](https://www.ebi.ac.uk/gxa/experiments/E-GEOD-20591/Results) containing the gene expression data set from *Transcription profiling by array of yeast to investigate expression of the beta-subunit of Snf1 kinase*. For those interested, you can find detailed information about the dataset in the original publication [here](https://onlinelibrary.wiley.com/doi/full/10.1111/j.1365-2958.2010.07209.x). Download `normalized_expressions.tsv` from Blackboard and import the list of gene names, as well as corresponding expression data from 24 experimental conditions. For all pairwise gene combinations, calculate the Pearson correlation coefficients and associated p-values for the *N* genes present in the yeast PIN (both as *N* x *N* Numpy arrays). Out of the gene pairs with positive correlation values, how many of them have a significance value below 0.0001?"
   ]
  },
  {
   "cell_type": "code",
   "execution_count": null,
   "metadata": {},
   "outputs": [],
   "source": []
  },
  {
   "cell_type": "markdown",
   "metadata": {},
   "source": [
    "(x) Download `s_core.py`. This is similar to the NetworkX function `k_core`, but uses node strength instead of node degree. Strength is defined as the sum of the weights of all the links attached to a node (i.e. Person correlations). With negative weights, the absolute values of the weights are used to calculate the strength. In this case, however, we are only looking at positively correlated nodes. Do you think it would make sense to include negative correlations in this particular case? Discuss."
   ]
  },
  {
   "cell_type": "markdown",
   "metadata": {},
   "source": [
    "(xi) Calculate the *s*-core with *s* = 2.5, 3, 3.5, and 4, and characterize their degree distributions. Discuss how the distribution changes for increasing values of *s*."
   ]
  },
  {
   "cell_type": "code",
   "execution_count": null,
   "metadata": {},
   "outputs": [],
   "source": []
  },
  {
   "cell_type": "markdown",
   "metadata": {},
   "source": [
    "(xii) Find an integer value for *s* that gives as good match as possible relative to the second innermost *k*-core in terms of number of distinct modules and number of nodes. Visualize this *s*-core with pyvis and describe the network."
   ]
  },
  {
   "cell_type": "code",
   "execution_count": null,
   "metadata": {},
   "outputs": [],
   "source": []
  },
  {
   "cell_type": "markdown",
   "metadata": {},
   "source": [
    "(xiii) Using the full yeast PIN network (network from (ii)), extract the nodes that are either part of the second innermost *k*-core, the *s*-core in (xii), or part of both cores. How many nodes and edges are there in this new network? Create a visualization of this subnetwork using pyvis, and color the nodes according to the following classifications:\n",
    "- Red if it was only found in the second innermost *k*-core.\n",
    "- Green if it was only found in the *s*-core.\n",
    "- Blue if it was found in both.\n",
    "\n",
    "Describe the network and discuss what you observe. Is it a single connected component? What do the differences between the *s*- and *k*-cores tell you?"
   ]
  },
  {
   "cell_type": "code",
   "execution_count": null,
   "metadata": {},
   "outputs": [],
   "source": []
  }
 ],
 "metadata": {
  "kernelspec": {
   "display_name": "Python 3",
   "language": "python",
   "name": "python3"
  },
  "language_info": {
   "codemirror_mode": {
    "name": "ipython",
    "version": 3
   },
   "file_extension": ".py",
   "mimetype": "text/x-python",
   "name": "python",
   "nbconvert_exporter": "python",
   "pygments_lexer": "ipython3",
   "version": "3.9.2"
  },
  "orig_nbformat": 4,
  "vscode": {
   "interpreter": {
    "hash": "916dbcbb3f70747c44a77c7bcd40155683ae19c65e1c03b4aa3499c5328201f1"
   }
  }
 },
 "nbformat": 4,
 "nbformat_minor": 2
}
