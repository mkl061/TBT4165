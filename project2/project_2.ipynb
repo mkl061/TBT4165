{
 "cells": [
  {
   "attachments": {},
   "cell_type": "markdown",
   "metadata": {},
   "source": [
    "In this project, you will be working with the protein interaction network (PIN) of *Saccharomyces cerevisiae* from the BioGRID Multi-Validated (MV) Datasets. The nodes and edges of this PIN denote proteins and their physical interactions, respectively. These interactions have been identified from large-scale protein interaction experiments such as yeast two-hybrid screenings and affinity purification with mass spectrometry. Additionally, they pass a specific set of criteria as defined [here](https://wiki.thebiogrid.org/doku.php/biogrid_mv) (BioGRID MV Datasets). See the following [link](https://wiki.thebiogrid.org/doku.php/biogrid_tab_version_2.0) to familiarize yourself with the contents of this BioGRID file. You will be analyzing the yeast PIN using *k*-core analysis, and further use the network as a scaffold for incorporating gene expression data, allowing you to perform *s*-core analysis using pairwise gene expression correlations as weights.\n",
    "\n",
    "### 1.1 Yeast protein interaction network\n",
    "\n",
    "Download the file containing all multi-validated protein-protein interactions from BioGRID found on Blackboard `BioGRID_PIN.txt`. Create a network with NetworkX using the systematic names to set source and target nodes. These corresponds to the columns named `Systematic Name Interactor A` and `Systematic Name Interactor B`. Remove all self-edges from the network."
   ]
  },
  {
   "attachments": {},
   "cell_type": "markdown",
   "metadata": {},
   "source": [
    "<span style=\"color:red\">\n",
    "\n",
    "***\n",
    "\n",
    "**NB! I have created my own module with functions that I have been using several times, both in project 1 and 2. The content of the module is printed out in the Appendix of this document. It is likely to change from project to project.**\n",
    "\n",
    "*** "
   ]
  },
  {
   "cell_type": "code",
   "execution_count": 44,
   "metadata": {},
   "outputs": [],
   "source": [
    "# Imports \n",
    "import pandas as pd\n",
    "import numpy as np\n",
    "import networkx as nx\n",
    "from pyvis.network import Network\n",
    "import sys\n",
    "import os\n",
    "if sys.path[-1] != \"..\":\n",
    "    sys.path.append(\"..\")\n",
    "from SysBio_fun import *\n",
    "from tbtFunctions import *"
   ]
  },
  {
   "cell_type": "code",
   "execution_count": 45,
   "metadata": {},
   "outputs": [],
   "source": [
    "# Read file:\n",
    "df = pd.read_table(\"BioGRID_PIN.txt\", sep=\"\\t\", low_memory=False)\n",
    "\n",
    "# Define source and target column:\n",
    "source = \"Systematic Name Interactor A\"\n",
    "target = \"Systematic Name Interactor B\"\n",
    "# source = \"Official Symbol Interactor A\"\n",
    "# target = \"Official Symbol Interactor B\"\n",
    "# Rename columns:\n",
    "df.rename(columns={source:\"source\", \n",
    "                   target:\"target\"},\n",
    "                   inplace=True)\n",
    "# Drop rows where column \"source\" value is identical to column \"target\" value.\n",
    "# I.e., drop self loops:\n",
    "# **NB!** This the number of rows left in the df may vary depending on which\n",
    "# column-pairs were treated as source-target. E.g. source:\"-\" and target:\"-\"\n",
    "# will be removed, even though they may have different Entrez ID.\n",
    "df = df[df[\"source\"] != df[\"target\"]]\n",
    "\n",
    "# Generate the graph:\n",
    "# **NB!** I treat the graph as undirected. \n",
    "PIN = nx.from_pandas_edgelist(df, edge_attr=True, create_using=nx.Graph())\n"
   ]
  },
  {
   "cell_type": "markdown",
   "metadata": {},
   "source": [
    "\n",
    "(i) How large is the network (i.e. number of nodes and edges), and what is the average node degree? "
   ]
  },
  {
   "cell_type": "code",
   "execution_count": 46,
   "metadata": {},
   "outputs": [
    {
     "name": "stdout",
     "output_type": "stream",
     "text": [
      "\n",
      "The number of nodes are: 13443\n",
      "The number of edges are: 31756\n",
      "The average node degree is: 4.724540653128022 \n",
      "\n"
     ]
    }
   ],
   "source": [
    "N = PIN.number_of_nodes()\n",
    "E = PIN.number_of_edges()\n",
    "mean_k = (E*2)/N  # Average node degree. Each link contributes a degree \"point\" for each node it connects. Therefore 2*E\n",
    "\n",
    "print(f\"\"\"\n",
    "The number of nodes are: {N}\n",
    "The number of edges are: {E}\n",
    "The average node degree is: {mean_k} \n",
    "\"\"\")"
   ]
  },
  {
   "attachments": {},
   "cell_type": "markdown",
   "metadata": {},
   "source": [
    "(ii) Look up *S. cerevisiae* S288C in the NCBI Taxonomy Database [here](https://www.ncbi.nlm.nih.gov/taxonomy) and take note of the taxonomy ID. Using the `Organism Interactor A` and `Organism Interactor B` edge attributes in the network, use this taxonomy ID to filter out all non-*S. cerevisiae* S288C nodes from the network. Also, remove all self-loops and isolated nodes. How many nodes and edges remain? Create a plot of its degree distribution. How would you characterize this network and its degree distribution?"
   ]
  },
  {
   "cell_type": "code",
   "execution_count": 47,
   "metadata": {},
   "outputs": [
    {
     "name": "stdout",
     "output_type": "stream",
     "text": [
      "\n",
      "The number of nodes is now 4104,\n",
      "while number of edges is 16753\n",
      "\n"
     ]
    }
   ],
   "source": [
    "# The taxonomic ID of S. cerevisiae S288C is: 559292\n",
    "\n",
    "# Generate a list of edges that does not fit:\n",
    "r1 = [edge for edge,tax \\\n",
    "      in nx.get_edge_attributes(PIN, \"Organism Interactor A\").items() \\\n",
    "          if tax != 559292]  # The edge information is a tuple and the key\n",
    "r2 = [edge for edge,tax \\\n",
    "      in nx.get_edge_attributes(PIN, \"Organism Interactor B\").items() \\\n",
    "        if tax != 559292]\n",
    "rem = set(r1+r2)  # set() is used to remove potential duplicates\n",
    "# Use the list to remove all edges \n",
    "PIN.remove_edges_from(rem)\n",
    "# In pandas:\n",
    "# len(df[(df[\"Organism Interactor A\"] == 559292) & (df[\"Organism Interactor B\"] == 559292)])\n",
    "\n",
    "\n",
    "# Remove nodes with a node degree of 0 (i.e. isolated nodes):\n",
    "PIN.remove_nodes_from(  # Remove nodes from list ...\n",
    "    [nodes for nodes,degree \\\n",
    "     in dict(PIN.degree()).items() if degree == 0]  # nodes with degree 0\n",
    ")\n",
    "\n",
    "N = PIN.number_of_nodes()  # New number of nodes\n",
    "E = PIN.number_of_edges()  # New number of edges\n",
    "\n",
    "print(f\"\"\"\n",
    "The number of nodes is now {N},\n",
    "while number of edges is {E}\n",
    "\"\"\")"
   ]
  },
  {
   "cell_type": "markdown",
   "metadata": {},
   "source": [
    "(iii) Compare the yeast PIN with Barabási–Albert (BA) and Erdős–Rényi (ER) networks with approximately the same number of nodes and edges using a few selected network measurements and the degree distributions. Do these models do a good job in describing the yeast PIN? Discuss why/why not."
   ]
  },
  {
   "cell_type": "code",
   "execution_count": 48,
   "metadata": {},
   "outputs": [],
   "source": [
    "l_comp = nx.Graph(PIN.subgraph(\n",
    "    sorted(\n",
    "        nx.connected_components(\n",
    "            PIN.copy()\n",
    "            #nx.to_undirected(PIN.copy())\n",
    "            #PIN.copy().to_undirected(as_view=True)\n",
    "            ),\n",
    "        reverse=True\n",
    "    )[0]\n",
    ").copy())\n",
    "\n",
    "n = l_comp.number_of_nodes()\n",
    "e = l_comp.number_of_edges()\n",
    "\n",
    "ER = connected_ER(n, e)\n",
    "BA = connected_BA(n, round(round(e/n)))\n"
   ]
  },
  {
   "cell_type": "code",
   "execution_count": 50,
   "metadata": {},
   "outputs": [
    {
     "name": "stdout",
     "output_type": "stream",
     "text": [
      "\n",
      "Number of nodes: 4022\n",
      "Number of edges: 16700\n",
      "\n",
      "Number of nodes: 4022\n",
      "Number of edges: 16700\n",
      "\n",
      "Number of nodes: 4022\n",
      "Number of edges: 16072\n"
     ]
    }
   ],
   "source": [
    "graph_info(l_comp, basic=True)\n",
    "graph_info(ER, basic=True)\n",
    "graph_info(BA, basic=True)"
   ]
  },
  {
   "cell_type": "code",
   "execution_count": 51,
   "metadata": {},
   "outputs": [
    {
     "data": {
      "image/png": "[encoded data removed]",
      "text/plain": [
       "<Figure size 640x480 with 3 Axes>"
      ]
     },
     "metadata": {},
     "output_type": "display_data"
    }
   ],
   "source": [
    "x_l_comp, y_l_comp = degree_distribution(l_comp)\n",
    "x_ER, y_ER = degree_distribution(ER)\n",
    "x_BA, y_BA = degree_distribution(BA)\n",
    "\n",
    "multi_plot(plot_type=\"scatter\", \n",
    "           lst_of_xs=[x_l_comp, x_ER, x_BA],\n",
    "           lst_of_ys=[y_l_comp, y_ER, y_BA])"
   ]
  },
  {
   "attachments": {},
   "cell_type": "markdown",
   "metadata": {},
   "source": [
    "<span style=\"color:blue\">\n",
    "As seen from the figure both the PIN and BA network have a power-law degree distribution, while the degree distribution for the ER is bell-shaped. "
   ]
  },
  {
   "cell_type": "markdown",
   "metadata": {},
   "source": [
    "(iv) You will now start peeling away layers of the yeast PIN by $k$-core analysis. In your own words, describe/define *k*-core analysis, and explain how it works on a network. What network does the 1-core correspond to?"
   ]
  },
  {
   "attachments": {},
   "cell_type": "markdown",
   "metadata": {},
   "source": [
    "<span style=\"color:blue\">\n",
    "k-core analysis is a method to identify importance of nodes by how connected they are to other nodes. Nodes with few links are removed stepwise until you end up with a core of nodes that have many connections in the original network, in addition to being tightly connected between themselves. For each iteration of the method a layer of nodes are removed. The first core (i.e. the 1-core) consists of nodes that have a single link or more, i.e. a node degree $\\ge$1. This core is therefore the entire network. The 2-core is the network after we have removed all nodes with a degree of 1, in addition to the nodes that now ends up with a degree of 1 following the first removal. In the 2-core network all nodes will have a node degree $\\ge$2. When all nodes with a degree of 2, and those who suddenly get a node degree $\\le$, are removed we are left with the 3 core and the next iteration can begin.\n",
    "\n",
    "Pseudo code:\n",
    "k-core = 1\n",
    "while number of nodes in network > 0:\n",
    "    while any node with degree == k-core:\n",
    "        Remove nodes with node degree $\\le$ k-core        \n",
    "    return network\n",
    "    k-core = k-core + 1"
   ]
  },
  {
   "cell_type": "markdown",
   "metadata": {},
   "source": [
    "(v) Calculate the 2-core of the yeast PIN. How large is this network? Plot and characterize its degree distribution and compare it to the original yeast PIN."
   ]
  },
  {
   "cell_type": "code",
   "execution_count": 52,
   "metadata": {},
   "outputs": [
    {
     "name": "stdout",
     "output_type": "stream",
     "text": [
      "\n",
      "Number of nodes: 3102\n",
      "Number of edges: 15780\n"
     ]
    },
    {
     "data": {
      "image/png": "[encoded data removed]",
      "text/plain": [
       "<Figure size 640x480 with 1 Axes>"
      ]
     },
     "metadata": {},
     "output_type": "display_data"
    }
   ],
   "source": [
    "l_comp_2_core = nx.k_core(l_comp, k=2)\n",
    "graph_info(l_comp_2_core, basic=True)\n",
    "\n",
    "x, y = degree_distribution(l_comp_2_core)\n",
    "plt.plot(x_l_comp,y_l_comp, 'o-')\n",
    "plt.plot(x, y, 'o-', color=\"red\")\n",
    "plt.show()"
   ]
  },
  {
   "attachments": {},
   "cell_type": "markdown",
   "metadata": {},
   "source": [
    "<span style=\"color:blue\">\n",
    "As seen on the figure above, the degree distribution has almost identical shape (i.e. power-law) for the 1- and 2-core. However, the frequency of nodes with degree 2 in the 2-core is lower than the frewuency of nodes with degree 1 in the 1-core. Similarly, the greatest node degree for the 1-core (~1100) is higher than the greatest node degree for the 2-core (~950)."
   ]
  },
  {
   "cell_type": "markdown",
   "metadata": {},
   "source": [
    "(vi)  Find the innermost *k*-core (the last *k* before the network is empty). How many edges and nodes are there in the innermost *k*-core? What is the absolute maximal amount of edges that there could be between this number of nodes, and how does the innermost core compare to that?"
   ]
  },
  {
   "cell_type": "code",
   "execution_count": 53,
   "metadata": {},
   "outputs": [
    {
     "name": "stdout",
     "output_type": "stream",
     "text": [
      "The innermost k-core is: 18\n",
      "\n",
      "Number of nodes: 19\n",
      "Number of edges: 171\n"
     ]
    }
   ],
   "source": [
    "current_k = 0\n",
    "g = l_comp.copy()  # Copy of the largest component of PIN\n",
    "while True:\n",
    "    if nx.number_of_nodes(g) == 0:\n",
    "        break \n",
    "    else:\n",
    "        current_k += 1\n",
    "        g = nx.k_core(g, k=current_k)  # get the k-core of the graph\n",
    "\n",
    "# The innermost k-core:\n",
    "innermost_k_core = current_k-1  \n",
    "\n",
    "print(f\"The innermost k-core is: {innermost_k_core}\")\n",
    "\n",
    "graph_info(nx.k_core(l_comp.copy(), k=innermost_k_core), basic=True)"
   ]
  },
  {
   "attachments": {},
   "cell_type": "markdown",
   "metadata": {},
   "source": [
    "<span style=\"color:blue\">\n",
    "The innermost core can be a clique, i.e. a complete graph, where all nodes are connected to all other nodes, and the number of edges would then be $E = \\frac{N(N-1)}{2}$. The 18-core of the PIN network (or rather the largest component of the PIN network) has 19 edges, which result in a theoretical maximum of 171 edges, which happens to be the exact number of edges in the innermost k-core. "
   ]
  },
  {
   "cell_type": "markdown",
   "metadata": {},
   "source": [
    "(vii) Create a plot of the number of nodes and the number of edges in a *k*-core against *k*. How would you characterize this plot? What does it tell you?"
   ]
  },
  {
   "cell_type": "code",
   "execution_count": 54,
   "metadata": {},
   "outputs": [
    {
     "data": {
      "image/png": "[encoded data removed]",
      "text/plain": [
       "<Figure size 640x480 with 1 Axes>"
      ]
     },
     "metadata": {},
     "output_type": "display_data"
    },
    {
     "data": {
      "image/png": "[encoded data removed]",
      "text/plain": [
       "<Figure size 640x480 with 1 Axes>"
      ]
     },
     "metadata": {},
     "output_type": "display_data"
    }
   ],
   "source": [
    "# Number of nodes in all the k-cores:\n",
    "y_nodes = [nx.number_of_nodes(nx.k_core(l_comp.copy(), k=k_)) for k_ in range(1, innermost_k_core+1)]\n",
    "# Number of edges in all the k-cores:\n",
    "y_edges = [nx.number_of_edges(nx.k_core(l_comp.copy(), k=k_)) for k_ in range(1, innermost_k_core+1)]\n",
    "# The the k-cores:\n",
    "x = range(1, innermost_k_core+1)\n",
    "\n",
    "# Plot # nodes in k-core as a function of k\n",
    "plt.scatter(x, y_nodes)\n",
    "nice_plot(\"# nodes in k-core as a function of k\", \"k\", \"Number of nodes\")\n",
    "\n",
    "# Plot # edges in k-core as a function of k\n",
    "plt.scatter(x, y_edges)\n",
    "nice_plot(\"# edges in k-core as a function of k\", \"k\", \"Number of nodes\")"
   ]
  },
  {
   "attachments": {},
   "cell_type": "markdown",
   "metadata": {},
   "source": [
    "<span style=\"color:blue\">\n",
    "I would say that the number of nodes in the k-core as a function of k almost follow a \"slow\" power-law, while the number of edges in the k-core as a function of k is more linear. I guess that for the nodes this makes sense given that a PIN network (usually) is scale-free, which also means that preferential-attachment has occured during the creation of the network. I.e. when a new node is added it is more likely to "
   ]
  },
  {
   "cell_type": "markdown",
   "metadata": {},
   "source": [
    "(viii) Generate the second innermost $k$-core and visualize it using pyvis. Describe the network."
   ]
  },
  {
   "cell_type": "code",
   "execution_count": 55,
   "metadata": {},
   "outputs": [],
   "source": [
    "sec_inner = nx.k_core(l_comp.copy(), k=innermost_k_core-1)\n",
    "show_html(sec_inner, name=f\"{innermost_k_core-1}-core_network\", show=True, size=\"large\", more=True)"
   ]
  },
  {
   "attachments": {},
   "cell_type": "markdown",
   "metadata": {},
   "source": [
    "<span style=\"color:blue\">\n",
    "The 17-core (i.e. the secound innermost k-core) network seems to consists of two clusters/communities, where the nodes in these are tightly connected. I guess that one of these are the 18-core (i.e. the innermost k-kore). There are three links that connects these two, and I expect the nodes that are bind by these links to have an exeptionally high betweenness-centrality (given that the links works as bridges). "
   ]
  },
  {
   "cell_type": "markdown",
   "metadata": {},
   "source": [
    "(ix)  We will now load gene expression data onto our yeast PIN. Go to this [url](https://www.ebi.ac.uk/gxa/experiments/E-GEOD-20591/Results) containing the gene expression data set from *Transcription profiling by array of yeast to investigate expression of the beta-subunit of Snf1 kinase*. For those interested, you can find detailed information about the dataset in the original publication [here](https://onlinelibrary.wiley.com/doi/full/10.1111/j.1365-2958.2010.07209.x). Download `normalized_expressions.tsv` from Blackboard and import the list of gene names, as well as corresponding expression data from 24 experimental conditions. For all pairwise gene combinations, calculate the Pearson correlation coefficients and associated p-values for the *N* genes present in the yeast PIN (both as *N* x *N* Numpy arrays). Out of the gene pairs with positive correlation values, how many of them have a significance value below 0.0001?"
   ]
  },
  {
   "cell_type": "code",
   "execution_count": 56,
   "metadata": {},
   "outputs": [
    {
     "name": "stdout",
     "output_type": "stream",
     "text": [
      "\n",
      "The number of rows in the expression level dataframe: 3961\n",
      "The number of unique rows (i.e. unique genes): 3924\n",
      "The number of overlapps/duplicates is: 37 \n",
      "\n",
      "\n",
      "There are 98 nodes in the network that have no expression data.\n",
      "\n"
     ]
    }
   ],
   "source": [
    "## NB! This is a more or less a direct copy from Eivind's reply to one of the questions\n",
    "## on the BlackBoard discussion board (Thread: project 2 Pearson correlation coefficient).\n",
    "\n",
    "norm_ex = pd.read_table(\"normalized_expressions.tsv\", sep=\"\\t\")  # Read gene expression data\n",
    "\n",
    "\n",
    "#Filter out PIN-genes not in the yeast PIN:\n",
    "PIN_genes = list(l_comp.nodes()) \n",
    "norm_ex = norm_ex[norm_ex[\"Gene ID\"].isin(PIN_genes)] \n",
    "\n",
    "# There seems to be duplicates in the expression level dataframe:\n",
    "print(f\"\"\"\n",
    "The number of rows in the expression level dataframe: {len(norm_ex[\"Gene ID\"].to_numpy())}\n",
    "The number of unique rows (i.e. unique genes): {len(set(norm_ex[\"Gene ID\"].to_numpy()))}\n",
    "The number of overlapps/duplicates is: {len(norm_ex[\"Gene ID\"].to_numpy())-len(set(norm_ex[\"Gene ID\"].to_numpy()))} \n",
    "\"\"\")\n",
    "\n",
    "# Remove duplicated rows (in the \"Gene ID\" column):\n",
    "norm_ex = norm_ex.drop_duplicates(subset=[\"Gene ID\"])\n",
    "\n",
    "# The expression data seems to not cover all the nodes in the network:\n",
    "print(f\"\"\"\n",
    "There are {len(list(set(PIN_genes)-set(norm_ex[\"Gene ID\"].to_numpy())))} nodes in the network that have no expression data.\n",
    "\"\"\")\n",
    "# Remove nodes with no expression data:\n",
    "l_comp.remove_nodes_from(list(set(PIN_genes)-set(norm_ex[\"Gene ID\"].to_numpy())))\n",
    "\n",
    "\n",
    "# Update the list of nodes:\n",
    "PIN_genes = list(l_comp.nodes()) \n",
    "\n",
    "# Convert expression data columns to NumPy arrays:\n",
    "gene_exp = norm_ex.iloc[:, 1:].to_numpy() \n",
    "\n",
    "# Calculate Pearson correlations and associated p-values:\n",
    "corrmat, pmat = faster_corrcoef(gene_exp)  \n",
    "\n",
    "\n",
    "\n",
    "# And now, you have the correlation matrix as well as the related p-value matrix. Necessary to loop through the correlation matrix and only count the correlations that have P-values < 1E-4."
   ]
  },
  {
   "cell_type": "code",
   "execution_count": 57,
   "metadata": {},
   "outputs": [
    {
     "data": {
      "text/plain": [
       "424578.0"
      ]
     },
     "execution_count": 57,
     "metadata": {},
     "output_type": "execute_result"
    }
   ],
   "source": [
    "# I don't know how to calculate how many has a p-value less than 0.0001\n",
    "# I thought it would be something like:\n",
    "np.count_nonzero(pmat < 0.0001)/2"
   ]
  },
  {
   "cell_type": "markdown",
   "metadata": {},
   "source": [
    "(x) Download `s_core.py`. This is similar to the NetworkX function `k_core`, but uses node strength instead of node degree. Strength is defined as the sum of the weights of all the links attached to a node (i.e. Person correlations). With negative weights, the absolute values of the weights are used to calculate the strength. In this case, however, we are only looking at positively correlated nodes. Do you think it would make sense to include negative correlations in this particular case? Discuss."
   ]
  },
  {
   "cell_type": "markdown",
   "metadata": {},
   "source": [
    "(xi) Calculate the *s*-core with *s* = 2.5, 3, 3.5, and 4, and characterize their degree distributions. Discuss how the distribution changes for increasing values of *s*."
   ]
  },
  {
   "cell_type": "code",
   "execution_count": 75,
   "metadata": {},
   "outputs": [
    {
     "data": {
      "image/png": "[encoded data removed]",
      "text/plain": [
       "<Figure size 640x480 with 1 Axes>"
      ]
     },
     "metadata": {},
     "output_type": "display_data"
    },
    {
     "data": {
      "image/png": "[encoded data removed]",
      "text/plain": [
       "<Figure size 640x480 with 1 Axes>"
      ]
     },
     "metadata": {},
     "output_type": "display_data"
    },
    {
     "data": {
      "image/png": "[encoded data removed]",
      "text/plain": [
       "<Figure size 640x480 with 1 Axes>"
      ]
     },
     "metadata": {},
     "output_type": "display_data"
    },
    {
     "name": "stdout",
     "output_type": "stream",
     "text": [
      "s = 4 is not possible. Broke the loop!\n"
     ]
    }
   ],
   "source": [
    "s_lst = [2.5, 3, 3.5, 4]  \n",
    "xs = []  # Storage list for the degrees\n",
    "ys = []  # Storage list for the fractions\n",
    "for i in range(len(s_lst)):\n",
    "    g_s_core = s_core(G=l_comp, s=s_lst[i], genes=PIN_genes, corrmat=corrmat, pmat=pmat)\n",
    "    # Check if the number of nodes is 0:\n",
    "    if g_s_core.number_of_nodes() == 0:\n",
    "        innermost_s_core = s_lst[i]\n",
    "        print(f\"s = {s_lst[i]} is not possible. Broke the loop!\")\n",
    "        break  # The innermost s-core was the previous graph!\n",
    "    # Calculate the degree distribution\n",
    "    x, y = degree_distribution(g_s_core)\n",
    "    xs.append(x)  # Append the list of x-values to the storage list\n",
    "    ys.append(y)  # Append the list of y-values to the storage list\n",
    "    plt.scatter(x,y)\n",
    "    plt.show()\n",
    "# Plot the degree distributions\n",
    "# multi_plot(\"scatter\", xs, ys)\n",
    "# plt.show()"
   ]
  },
  {
   "attachments": {},
   "cell_type": "markdown",
   "metadata": {},
   "source": [
    "<span style=\"color:blue\">\n",
    "Based on the result I got, I must say that the degree distribution for the 2.5-core seems to be bell-shaped. Although, it is not a smooth bell-shape. The 3-core seems to have a degree distribution that is random, and 3.5-core cosists only of nodes with degrees of 11."
   ]
  },
  {
   "cell_type": "markdown",
   "metadata": {},
   "source": [
    "(xii) Find an integer value for *s* that gives as good match as possible relative to the second innermost *k*-core in terms of number of distinct modules and number of nodes. Visualize this *s*-core with pyvis and describe the network."
   ]
  },
  {
   "attachments": {},
   "cell_type": "markdown",
   "metadata": {},
   "source": [
    "<span style=\"color:blue\">\n",
    "Well, for me the second innermost s-core must be the core when s is 3. My feeling is that something has gone awry at this point."
   ]
  },
  {
   "cell_type": "code",
   "execution_count": 59,
   "metadata": {},
   "outputs": [],
   "source": [
    "sec_inner = s_core(G=l_comp, s=3, genes=PIN_genes, corrmat=corrmat, pmat=pmat)\n",
    "show_html(sec_inner, name=\"3-core_s_network\", show=True, size=\"large\", more=True)"
   ]
  },
  {
   "attachments": {},
   "cell_type": "markdown",
   "metadata": {},
   "source": [
    "<span style=\"color:blue\">\n",
    "The 3-core network seems to consist of ~5 modules/communities/clusters that are fairly tightly connected. There is also a node in the center that seems to be connected to all of the clusters."
   ]
  },
  {
   "cell_type": "markdown",
   "metadata": {},
   "source": [
    "(xiii) Using the full yeast PIN network (network from (ii)), extract the nodes that are either part of the second innermost *k*-core, the *s*-core in (xii), or part of both cores. How many nodes and edges are there in this new network? Create a visualization of this subnetwork using pyvis, and color the nodes according to the following classifications:\n",
    "- Red if it was only found in the second innermost *k*-core.\n",
    "- Green if it was only found in the *s*-core.\n",
    "- Blue if it was found in both.\n",
    "\n",
    "Describe the network and discuss what you observe. Is it a single connected component? What do the differences between the *s*- and *k*-cores tell you?"
   ]
  },
  {
   "cell_type": "code",
   "execution_count": 88,
   "metadata": {},
   "outputs": [],
   "source": [
    "graph_k = nx.k_core(l_comp.copy(), k=17)\n",
    "graph_s = s_core(G=l_comp, s=3, genes=PIN_genes, corrmat=corrmat, pmat=pmat)"
   ]
  },
  {
   "cell_type": "code",
   "execution_count": 90,
   "metadata": {},
   "outputs": [
    {
     "name": "stdout",
     "output_type": "stream",
     "text": [
      "\n",
      "Number of nodes: 29\n",
      "Number of edges: 101\n"
     ]
    }
   ],
   "source": [
    "# All the nodes that are in the s-core network is in the PIN network.\n",
    "# The same goes for the k-core network. We therefore need to find \n",
    "# the nodes that are in common for the s- and the k-core network:\n",
    "n_lst = list(set(graph_s.nodes())-set(graph_k.nodes()))\n",
    "new_g = l_comp.copy().subgraph(n_lst)\n",
    "graph_info(new_g, basic=True)\n"
   ]
  },
  {
   "cell_type": "code",
   "execution_count": null,
   "metadata": {},
   "outputs": [],
   "source": [
    "show_html(new_g, name=\"combination_core_network\", show=True, size=\"large\", more=True)"
   ]
  },
  {
   "cell_type": "markdown",
   "metadata": {},
   "source": []
  },
  {
   "attachments": {},
   "cell_type": "markdown",
   "metadata": {},
   "source": [
    "<span style=\"color:red\">\n",
    "\n",
    "# Appendix"
   ]
  },
  {
   "cell_type": "code",
   "execution_count": 73,
   "metadata": {},
   "outputs": [
    {
     "name": "stdout",
     "output_type": "stream",
     "text": [
      "#############################################\n",
      "#   This is a module created to hold        #\n",
      "#   all custom functions used in multiple   #\n",
      "#   project throughout the TBT4165 course   #\n",
      "#############################################\n",
      "\n",
      "\n",
      "## Imports:\n",
      "import networkx as nx\n",
      "import matplotlib.pyplot as plt\n",
      "import numpy as np\n",
      "from pyvis.network import Network\n",
      "\n",
      "\n",
      "## Functions:\n",
      "\n",
      "def connected_ER(N, E):\n",
      "    \"\"\"\n",
      "    N : int, Number of nodes\n",
      "    E : int, Number of edges \n",
      "    \"\"\"\n",
      "    g = nx.gnm_random_graph(N, E)\n",
      "    while nx.is_connected(g) == False:\n",
      "        g = nx.gnm_random_graph(N, E)\n",
      "    return g\n",
      "\n",
      "\n",
      "def connected_BA(N, m):\n",
      "    \"\"\"\n",
      "    N : int, Number of nodes\n",
      "    m : int, Number of edges to attach from a new node to existing nodes\n",
      "    \"\"\"\n",
      "    g = nx.barabasi_albert_graph(n=N, m=m)\n",
      "    while nx.is_connected(g) == False:\n",
      "        g = nx.barabasi_albert_graph(n=N, m=m)\n",
      "    return g\n",
      "\n",
      "\n",
      "def get_largest_component(g, is_undirected=True):\n",
      "    if is_undirected:\n",
      "        l_comp = g.subgraph(\n",
      "            sorted(\n",
      "                nx.connected_components(\n",
      "                    nx.to_undirected(g.copy())\n",
      "                    ),\n",
      "                reverse=True\n",
      "            )[0]\n",
      "        ).copy()\n",
      "    else:\n",
      "        l_comp = g.subgraph(\n",
      "            sorted(\n",
      "                nx.connected_components(g),\n",
      "                reverse=True\n",
      "            )[0]\n",
      "        ).copy()\n",
      "    return l_comp\n",
      "\n",
      "\n",
      "def graph_info(g, basic=False):\n",
      "    print(f\"\\nNumber of nodes: {g.number_of_nodes()}\")\n",
      "    print(f\"Number of edges: {g.number_of_edges()}\")\n",
      "    \n",
      "    if basic == False:\n",
      "        try:\n",
      "            print(f\"Is connected:    {nx.is_connected(g)}\")\n",
      "        except:\n",
      "            print(\"\"\"\\\n",
      "The graph is not undirected. Therefore .is_connected() does not work.\n",
      "            \"\"\")\n",
      "\n",
      "\n",
      "def show_html(graph, name=\"nx\", show=True, size=\"small\", more=False):\n",
      "    \"\"\"\n",
      "    Generate and display the graph through pyvis.\n",
      "    show : bool, True result in display of network\n",
      "    size : \"small\" = 500px*500px or \"large\" =  1080px*1920px\n",
      "    more : filtering and physics options added to the html\n",
      "    \"\"\"\n",
      "\n",
      "    in_ipynb = {\"notebook\":True, \"cdn_resources\":\"remote\"}\n",
      "    \n",
      "    if size == \"small\":\n",
      "        s = {\"height\":\"500px\", \"width\":\"500px\"}\n",
      "    else:\n",
      "        s = {\"height\":\"1080px\", \"width\":\"1920px\"}\n",
      "    \n",
      "    if more:\n",
      "        m = {\"select_menu\":True, \"filter_menu\":True}\n",
      "        nt = Network(**s, **m, **in_ipynb)\n",
      "        nt.show_buttons(filter_=\"physics\")\n",
      "        nt.from_nx(graph)\n",
      "    else:\n",
      "        nt = Network(**s, **in_ipynb)\n",
      "        nt.from_nx(graph)\n",
      "    \n",
      "    if show:\n",
      "        nt.show(f\"{name}.html\")\n",
      "\n",
      "\n",
      "\n",
      "def nice_plot(title, xlab, ylab, show=True):\n",
      "    \"\"\"\n",
      "    Function to generate title and axis labels to a plot.\n",
      "    The argument \"show\" is by default True. \n",
      "    \"\"\"\n",
      "    plt.title(title)\n",
      "    plt.xlabel(xlab)\n",
      "    plt.ylabel(ylab)\n",
      "    if (show == True):\n",
      "        plt.show()\n",
      "\n",
      "\n",
      "def degree_distribution(graph):\n",
      "    \"\"\"\n",
      "    Function that returns a scatter plot of the degree\n",
      "    distribution of a graph. \n",
      "    \"\"\"\n",
      "    N = graph.number_of_nodes()  # Total number of nodes\n",
      "    y = np.array(nx.degree_histogram(graph))/N  # All occurrences of \"n\" degree, divided by total number of nodes\n",
      "    x = np.arange(len(y))[y != 0]  # x values\n",
      "    y = y[y != 0]  # Remove the values = 0 from the array\n",
      "    \n",
      "    return x, y\n",
      "\n",
      "\n",
      "def multi_plot(plot_type, lst_of_xs, lst_of_ys):\n",
      "    # Check if plot type is valid:\n",
      "    plot_types = [\"scatter\", \"plot\"]\n",
      "    if plot_type not in plot_types:\n",
      "        raise Exception(f\"Method {plot_type} not implemented for axis\")\n",
      "    \n",
      "    nplots = len(lst_of_xs)\n",
      "    figure, axis = plt.subplots(1, nplots)\n",
      "    \n",
      "        \n",
      "    for i in range(nplots):\n",
      "        eval(f\"axis[{i}].{plot_type}(lst_of_xs[{i}],lst_of_ys[{i}])\")\n",
      "    \n",
      "    plt.show()\n"
     ]
    }
   ],
   "source": [
    "if os.name == \"nt\":  # Windows\n",
    "    file_path = \"\\\\\".join(sys.path[0].split(\"\\\\\")[:-1])\n",
    "    with open(file_path+\"\\\\SysBio_fun.py\") as file:\n",
    "        print(file.read())\n",
    "else:  # Linux\n",
    "    file_path = \"/\".join(sys.path[0].split(\"/\")[:-1])\n",
    "    with open(file_path+\"/SysBio_fun.py\") as file:\n",
    "        print(file.read())\n"
   ]
  }
 ],
 "metadata": {
  "kernelspec": {
   "display_name": "Python 3",
   "language": "python",
   "name": "python3"
  },
  "language_info": {
   "codemirror_mode": {
    "name": "ipython",
    "version": 3
   },
   "file_extension": ".py",
   "mimetype": "text/x-python",
   "name": "python",
   "nbconvert_exporter": "python",
   "pygments_lexer": "ipython3",
   "version": "3.10.10"
  },
  "orig_nbformat": 4,
  "vscode": {
   "interpreter": {
    "hash": "916dbcbb3f70747c44a77c7bcd40155683ae19c65e1c03b4aa3499c5328201f1"
   }
  }
 },
 "nbformat": 4,
 "nbformat_minor": 2
}
